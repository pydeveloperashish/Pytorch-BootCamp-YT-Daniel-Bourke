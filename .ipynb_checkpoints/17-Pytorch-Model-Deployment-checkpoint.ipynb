{
 "cells": [
  {
   "cell_type": "code",
   "execution_count": 1,
   "id": "99e23e09",
   "metadata": {},
   "outputs": [],
   "source": [
    "import os\n",
    "import matplotlib.pyplot as plt\n",
    "import torch\n",
    "import torch.nn as nn\n",
    "import torchvision\n",
    "from torchinfo import summary\n",
    "from helper_functions import set_seeds"
   ]
  },
  {
   "cell_type": "code",
   "execution_count": 2,
   "id": "87705133",
   "metadata": {},
   "outputs": [
    {
     "name": "stdout",
     "output_type": "stream",
     "text": [
      "cuda\n"
     ]
    }
   ],
   "source": [
    "# Setup device agnostic code\n",
    "device = \"cuda\" if torch.cuda.is_available() else \"cpu\"\n",
    "print(device)"
   ]
  },
  {
   "cell_type": "code",
   "execution_count": null,
   "id": "c79febc4",
   "metadata": {},
   "outputs": [],
   "source": []
  },
  {
   "cell_type": "code",
   "execution_count": null,
   "id": "1dea2458",
   "metadata": {},
   "outputs": [],
   "source": []
  },
  {
   "cell_type": "markdown",
   "id": "268ad443",
   "metadata": {},
   "source": [
    "# 1. Getting Data\n",
    "The dataset we are going to use for deploying a FoodVision Mini model is...\n",
    "\n",
    "Pizza, steak, sushi 20% dataset."
   ]
  },
  {
   "cell_type": "code",
   "execution_count": 3,
   "id": "9503650b",
   "metadata": {},
   "outputs": [
    {
     "data": {
      "text/plain": [
       "('Datasets/pizza_steak_sushi_20_percent/train',\n",
       " 'Datasets/pizza_steak_sushi_20_percent/test')"
      ]
     },
     "execution_count": 3,
     "metadata": {},
     "output_type": "execute_result"
    }
   ],
   "source": [
    "train_dir = os.path.join(\"Datasets\", \"pizza_steak_sushi_20_percent\", \"train\")\n",
    "test_dir = os.path.join(\"Datasets\", \"pizza_steak_sushi_20_percent\", \"test\")\n",
    "\n",
    "train_dir, test_dir"
   ]
  },
  {
   "cell_type": "code",
   "execution_count": null,
   "id": "b652425e",
   "metadata": {},
   "outputs": [],
   "source": []
  },
  {
   "cell_type": "markdown",
   "id": "c1f8e317",
   "metadata": {},
   "source": [
    "# 2. FoodVision Mini model deployment experiment outline\n",
    "\n",
    "### 3. Questions\n",
    "1. What is my most ideal machine learning model deployment scenario?\n",
    "2. Where is my model going to go?\n",
    "3. How is my model going to function?\n",
    "\n",
    "**FoodVision Mini ideal use case:** A model that performs well and fast.\n",
    "    \n",
    "1. Performs well: 95% accuracy\n",
    "2. Fast: as close to real-time (or faster) as possible (30 FPS+ or 30ms latency)\n",
    "    * Latency = time for prediction to take place\n",
    "  \n",
    "To try and achieve these goals, we are going to build two model experiments:\n",
    "\n",
    "1. EffNetB2 feature extractor (Just like we built in 15-Experiment Tracking).\n",
    "2. ViT feature extractor (Just like we built in 16-Vision Transformer Implementation)"
   ]
  },
  {
   "cell_type": "code",
   "execution_count": null,
   "id": "91e6c739",
   "metadata": {},
   "outputs": [],
   "source": []
  },
  {
   "cell_type": "code",
   "execution_count": null,
   "id": "d213714e",
   "metadata": {},
   "outputs": [],
   "source": []
  },
  {
   "cell_type": "markdown",
   "id": "bbcd0a07",
   "metadata": {},
   "source": [
    "# 3. Experimenting with EffNetB2 feature Extractor"
   ]
  },
  {
   "cell_type": "markdown",
   "id": "3a9f7854",
   "metadata": {},
   "source": [
    "### 3.1 Creating an EffNetB2 feature extractor"
   ]
  },
  {
   "cell_type": "code",
   "execution_count": 4,
   "id": "15af8792",
   "metadata": {},
   "outputs": [],
   "source": [
    "def create_effnetb2_model(num_classes: int = 3,\n",
    "                          seed: int =42):\n",
    "\n",
    "    # 1. Setup pretrained EffNetB2 weights\n",
    "    effnetb2_weights = torchvision.models.EfficientNet_B2_Weights.DEFAULT   # DEFAULT = best available weights.\n",
    "\n",
    "    # 2. Get EffNetB2 transforms\n",
    "    effnetb2_transforms = effnetb2_weights.transforms()\n",
    "\n",
    "    # 3. Setup pretrained model instance\n",
    "    effnetb2 = torchvision.models.efficientnet_b2(weights = effnetb2_weights)\n",
    "\n",
    "    # 4. Freeze the base layers\n",
    "    for param in effnetb2.parameters():\n",
    "        param.requires_grad = False\n",
    "        \n",
    "    # 5. Change classifier head with random seed for reproducibility.    \n",
    "    torch.manual_seed(seed)\n",
    "    effnetb2.classifier = nn.Sequential(\n",
    "        nn.Dropout(p = 0.3, inplace = True),\n",
    "        nn.Linear(in_features = 1408, out_features = num_classes, bias = True)\n",
    "        )\n",
    "    \n",
    "    return effnetb2, effnetb2_transforms"
   ]
  },
  {
   "cell_type": "code",
   "execution_count": 5,
   "id": "82fe9798",
   "metadata": {},
   "outputs": [],
   "source": [
    "effnetb2, effnetb2_transforms = create_effnetb2_model(num_classes = 3, seed = 42)"
   ]
  },
  {
   "cell_type": "code",
   "execution_count": 6,
   "id": "7fb7093e",
   "metadata": {},
   "outputs": [
    {
     "data": {
      "text/plain": [
       "========================================================================================================================\n",
       "Layer (type (var_name))                                      Input Shape          Output Shape         Trainable\n",
       "========================================================================================================================\n",
       "EfficientNet (EfficientNet)                                  [1, 3, 224, 224]     [1, 3]               Partial\n",
       "├─Sequential (features)                                      [1, 3, 224, 224]     [1, 1408, 7, 7]      False\n",
       "│    └─Conv2dNormActivation (0)                              [1, 3, 224, 224]     [1, 32, 112, 112]    False\n",
       "│    │    └─Conv2d (0)                                       [1, 3, 224, 224]     [1, 32, 112, 112]    False\n",
       "│    │    └─BatchNorm2d (1)                                  [1, 32, 112, 112]    [1, 32, 112, 112]    False\n",
       "│    │    └─SiLU (2)                                         [1, 32, 112, 112]    [1, 32, 112, 112]    --\n",
       "│    └─Sequential (1)                                        [1, 32, 112, 112]    [1, 16, 112, 112]    False\n",
       "│    │    └─MBConv (0)                                       [1, 32, 112, 112]    [1, 16, 112, 112]    False\n",
       "│    │    └─MBConv (1)                                       [1, 16, 112, 112]    [1, 16, 112, 112]    False\n",
       "│    └─Sequential (2)                                        [1, 16, 112, 112]    [1, 24, 56, 56]      False\n",
       "│    │    └─MBConv (0)                                       [1, 16, 112, 112]    [1, 24, 56, 56]      False\n",
       "│    │    └─MBConv (1)                                       [1, 24, 56, 56]      [1, 24, 56, 56]      False\n",
       "│    │    └─MBConv (2)                                       [1, 24, 56, 56]      [1, 24, 56, 56]      False\n",
       "│    └─Sequential (3)                                        [1, 24, 56, 56]      [1, 48, 28, 28]      False\n",
       "│    │    └─MBConv (0)                                       [1, 24, 56, 56]      [1, 48, 28, 28]      False\n",
       "│    │    └─MBConv (1)                                       [1, 48, 28, 28]      [1, 48, 28, 28]      False\n",
       "│    │    └─MBConv (2)                                       [1, 48, 28, 28]      [1, 48, 28, 28]      False\n",
       "│    └─Sequential (4)                                        [1, 48, 28, 28]      [1, 88, 14, 14]      False\n",
       "│    │    └─MBConv (0)                                       [1, 48, 28, 28]      [1, 88, 14, 14]      False\n",
       "│    │    └─MBConv (1)                                       [1, 88, 14, 14]      [1, 88, 14, 14]      False\n",
       "│    │    └─MBConv (2)                                       [1, 88, 14, 14]      [1, 88, 14, 14]      False\n",
       "│    │    └─MBConv (3)                                       [1, 88, 14, 14]      [1, 88, 14, 14]      False\n",
       "│    └─Sequential (5)                                        [1, 88, 14, 14]      [1, 120, 14, 14]     False\n",
       "│    │    └─MBConv (0)                                       [1, 88, 14, 14]      [1, 120, 14, 14]     False\n",
       "│    │    └─MBConv (1)                                       [1, 120, 14, 14]     [1, 120, 14, 14]     False\n",
       "│    │    └─MBConv (2)                                       [1, 120, 14, 14]     [1, 120, 14, 14]     False\n",
       "│    │    └─MBConv (3)                                       [1, 120, 14, 14]     [1, 120, 14, 14]     False\n",
       "│    └─Sequential (6)                                        [1, 120, 14, 14]     [1, 208, 7, 7]       False\n",
       "│    │    └─MBConv (0)                                       [1, 120, 14, 14]     [1, 208, 7, 7]       False\n",
       "│    │    └─MBConv (1)                                       [1, 208, 7, 7]       [1, 208, 7, 7]       False\n",
       "│    │    └─MBConv (2)                                       [1, 208, 7, 7]       [1, 208, 7, 7]       False\n",
       "│    │    └─MBConv (3)                                       [1, 208, 7, 7]       [1, 208, 7, 7]       False\n",
       "│    │    └─MBConv (4)                                       [1, 208, 7, 7]       [1, 208, 7, 7]       False\n",
       "│    └─Sequential (7)                                        [1, 208, 7, 7]       [1, 352, 7, 7]       False\n",
       "│    │    └─MBConv (0)                                       [1, 208, 7, 7]       [1, 352, 7, 7]       False\n",
       "│    │    └─MBConv (1)                                       [1, 352, 7, 7]       [1, 352, 7, 7]       False\n",
       "│    └─Conv2dNormActivation (8)                              [1, 352, 7, 7]       [1, 1408, 7, 7]      False\n",
       "│    │    └─Conv2d (0)                                       [1, 352, 7, 7]       [1, 1408, 7, 7]      False\n",
       "│    │    └─BatchNorm2d (1)                                  [1, 1408, 7, 7]      [1, 1408, 7, 7]      False\n",
       "│    │    └─SiLU (2)                                         [1, 1408, 7, 7]      [1, 1408, 7, 7]      --\n",
       "├─AdaptiveAvgPool2d (avgpool)                                [1, 1408, 7, 7]      [1, 1408, 1, 1]      --\n",
       "├─Sequential (classifier)                                    [1, 1408]            [1, 3]               True\n",
       "│    └─Dropout (0)                                           [1, 1408]            [1, 1408]            --\n",
       "│    └─Linear (1)                                            [1, 1408]            [1, 3]               True\n",
       "========================================================================================================================\n",
       "Total params: 7,705,221\n",
       "Trainable params: 4,227\n",
       "Non-trainable params: 7,700,994\n",
       "Total mult-adds (M): 657.64\n",
       "========================================================================================================================\n",
       "Input size (MB): 0.60\n",
       "Forward/backward pass size (MB): 156.80\n",
       "Params size (MB): 30.82\n",
       "Estimated Total Size (MB): 188.22\n",
       "========================================================================================================================"
      ]
     },
     "execution_count": 6,
     "metadata": {},
     "output_type": "execute_result"
    }
   ],
   "source": [
    "### Getting a summary of our model with torch.summary()\n",
    "from torchinfo import summary\n",
    "\n",
    "summary(\n",
    "    model = effnetb2,\n",
    "    input_size = (1, 3, 224, 224,),  # -> input_size = (BS, Color_channel, IMG_SIZE, IMG_SIZE)\n",
    "    col_names = [\"input_size\", \"output_size\", \"trainable\"],  # names of columns you want.\n",
    "    col_width = 20,\n",
    "    row_settings = [\"var_names\"],\n",
    "    )"
   ]
  },
  {
   "cell_type": "code",
   "execution_count": null,
   "id": "b8599769",
   "metadata": {},
   "outputs": [],
   "source": []
  },
  {
   "cell_type": "code",
   "execution_count": null,
   "id": "a6a291fe",
   "metadata": {},
   "outputs": [],
   "source": []
  },
  {
   "cell_type": "code",
   "execution_count": null,
   "id": "611a4efb",
   "metadata": {},
   "outputs": [],
   "source": []
  },
  {
   "cell_type": "markdown",
   "id": "5a3b093f",
   "metadata": {},
   "source": [
    "### 3.2 Creating DataLoaders for EffNetB2"
   ]
  },
  {
   "cell_type": "code",
   "execution_count": 7,
   "id": "55d505e4",
   "metadata": {},
   "outputs": [
    {
     "name": "stdout",
     "output_type": "stream",
     "text": [
      "57, 19, ['pizza', 'steak', 'sushi']\n"
     ]
    }
   ],
   "source": [
    "from going_moduler import data_setup\n",
    "\n",
    "train_dataloader_effnetb2, test_dataloader_effnetb2, class_names = data_setup.create_dataloaders(train_dir = train_dir,\n",
    "                                                                                                 test_dir = test_dir,\n",
    "                                                                                                 transform = effnetb2_transforms,\n",
    "                                                                                                 batch_size = 8,\n",
    "                                                                                                 num_workers = os.cpu_count())\n",
    "\n",
    "print(f\"{len(train_dataloader_effnetb2)}, {len(test_dataloader_effnetb2)}, {class_names}\")"
   ]
  },
  {
   "cell_type": "code",
   "execution_count": null,
   "id": "e40a48bc",
   "metadata": {},
   "outputs": [],
   "source": []
  },
  {
   "cell_type": "code",
   "execution_count": null,
   "id": "780f6b07",
   "metadata": {},
   "outputs": [],
   "source": []
  },
  {
   "cell_type": "markdown",
   "id": "078810a6",
   "metadata": {},
   "source": [
    "### 3.3 Training EffNetB2 feature extractor"
   ]
  },
  {
   "cell_type": "code",
   "execution_count": 8,
   "id": "749160f1",
   "metadata": {},
   "outputs": [
    {
     "data": {
      "application/vnd.jupyter.widget-view+json": {
       "model_id": "c486dce42e2f422f845c7ff60f4ed137",
       "version_major": 2,
       "version_minor": 0
      },
      "text/plain": [
       "  0%|          | 0/10 [00:00<?, ?it/s]"
      ]
     },
     "metadata": {},
     "output_type": "display_data"
    },
    {
     "name": "stdout",
     "output_type": "stream",
     "text": [
      "Epoch: 0 | Train Loss: 0.8942 | Train acc: 0.6250 | Test Loss: 0.5729 | Test Acc: 0.9254\n",
      "Epoch: 1 | Train Loss: 0.5982 | Train acc: 0.8026 | Test Loss: 0.4386 | Test Acc: 0.9342\n",
      "Epoch: 2 | Train Loss: 0.4783 | Train acc: 0.8421 | Test Loss: 0.3388 | Test Acc: 0.9671\n",
      "Epoch: 3 | Train Loss: 0.4186 | Train acc: 0.8772 | Test Loss: 0.3251 | Test Acc: 0.9320\n",
      "Epoch: 4 | Train Loss: 0.3725 | Train acc: 0.8772 | Test Loss: 0.2822 | Test Acc: 0.9474\n",
      "Epoch: 5 | Train Loss: 0.3672 | Train acc: 0.8750 | Test Loss: 0.2705 | Test Acc: 0.9518\n",
      "Epoch: 6 | Train Loss: 0.3288 | Train acc: 0.8860 | Test Loss: 0.2578 | Test Acc: 0.9452\n",
      "Epoch: 7 | Train Loss: 0.3408 | Train acc: 0.8860 | Test Loss: 0.2545 | Test Acc: 0.9386\n",
      "Epoch: 8 | Train Loss: 0.3233 | Train acc: 0.8991 | Test Loss: 0.2567 | Test Acc: 0.9320\n",
      "Epoch: 9 | Train Loss: 0.3267 | Train acc: 0.8728 | Test Loss: 0.2319 | Test Acc: 0.9518\n"
     ]
    }
   ],
   "source": [
    "from going_moduler import engine\n",
    "\n",
    "# Create Optimizer and Loss Function\n",
    "optimizer = torch.optim.Adam(params = effnetb2.parameters(),\n",
    "                             lr = 1e-3)\n",
    "\n",
    "loss_fn = torch.nn.CrossEntropyLoss()\n",
    "\n",
    "# Training function (engine.py)\n",
    "set_seeds()\n",
    "effnetb2_results = engine.train(model = effnetb2,\n",
    "                                train_dataloader = train_dataloader_effnetb2,\n",
    "                                test_dataloader = test_dataloader_effnetb2,\n",
    "                                epochs = 10,\n",
    "                                optimizer = optimizer,\n",
    "                                loss_fn = loss_fn,\n",
    "                                device = device)"
   ]
  },
  {
   "cell_type": "code",
   "execution_count": null,
   "id": "5708e5e0",
   "metadata": {},
   "outputs": [],
   "source": []
  },
  {
   "cell_type": "code",
   "execution_count": null,
   "id": "3d6abf7d",
   "metadata": {},
   "outputs": [],
   "source": []
  },
  {
   "cell_type": "markdown",
   "id": "108235d4",
   "metadata": {},
   "source": [
    "### 3.4 Inspecting EffNetB2 loss curves"
   ]
  },
  {
   "cell_type": "code",
   "execution_count": 9,
   "id": "f50e6777",
   "metadata": {},
   "outputs": [
    {
     "data": {
      "image/png": "[encoded data removed]",
      "text/plain": [
       "<Figure size 1080x504 with 2 Axes>"
      ]
     },
     "metadata": {
      "needs_background": "light"
     },
     "output_type": "display_data"
    }
   ],
   "source": [
    "from helper_functions import plot_loss_curves\n",
    "\n",
    "plot_loss_curves(effnetb2_results)"
   ]
  },
  {
   "cell_type": "code",
   "execution_count": null,
   "id": "40a078af",
   "metadata": {},
   "outputs": [],
   "source": []
  },
  {
   "cell_type": "code",
   "execution_count": null,
   "id": "f24e815a",
   "metadata": {},
   "outputs": [],
   "source": []
  },
  {
   "cell_type": "markdown",
   "id": "80fbb6b6",
   "metadata": {},
   "source": [
    "### 3.5 Saving EffNetB2 feature extractor"
   ]
  },
  {
   "cell_type": "code",
   "execution_count": 10,
   "id": "49ead561",
   "metadata": {},
   "outputs": [
    {
     "name": "stdout",
     "output_type": "stream",
     "text": [
      "[INFO] Saving model to: models/17_pretrained_effnetb2_20_percent.pth\n"
     ]
    }
   ],
   "source": [
    "from going_moduler import utils\n",
    "\n",
    "utils.save_model(model = effnetb2,\n",
    "                 target_dir = \"models\",\n",
    "                 model_name = \"17_pretrained_effnetb2_20_percent.pth\")"
   ]
  },
  {
   "cell_type": "code",
   "execution_count": null,
   "id": "4212d97f",
   "metadata": {},
   "outputs": [],
   "source": []
  },
  {
   "cell_type": "markdown",
   "id": "1c17f00a",
   "metadata": {},
   "source": [
    "### 3.6 Inspecting the size of our EffNetB2 model\n",
    "\n",
    "Check the model size, if its too large, we may not be able to deploy on our target device."
   ]
  },
  {
   "cell_type": "code",
   "execution_count": 11,
   "id": "12e8ce17",
   "metadata": {},
   "outputs": [
    {
     "name": "stdout",
     "output_type": "stream",
     "text": [
      "Pretrained EffNetB2 feature extractor model size: 29.82 MB\n"
     ]
    }
   ],
   "source": [
    "from pathlib import Path\n",
    "\n",
    "# Get the model size in bytes and convert it to megabytes.\n",
    "pretrained_effnetb2_model_size = Path(os.path.join(\"models\", \"17_pretrained_effnetb2_20_percent.pth\")).stat().st_size / (1024 * 1024)\n",
    "print(f\"Pretrained EffNetB2 feature extractor model size: {round(pretrained_effnetb2_model_size, 2)} MB\")"
   ]
  },
  {
   "cell_type": "code",
   "execution_count": null,
   "id": "88208fa6",
   "metadata": {},
   "outputs": [],
   "source": []
  },
  {
   "cell_type": "markdown",
   "id": "0df366ae",
   "metadata": {},
   "source": [
    "### 3.7 Collecting EffNetB2 Feature Extractor stats"
   ]
  },
  {
   "cell_type": "code",
   "execution_count": 12,
   "id": "37b32164",
   "metadata": {},
   "outputs": [
    {
     "data": {
      "text/plain": [
       "7705221"
      ]
     },
     "execution_count": 12,
     "metadata": {},
     "output_type": "execute_result"
    }
   ],
   "source": [
    "# Count number of paramaters in EffNetB2\n",
    "effnetb2_total_params = sum(torch.numel(param) for param in effnetb2.parameters())\n",
    "effnetb2_total_params"
   ]
  },
  {
   "cell_type": "code",
   "execution_count": 13,
   "id": "1119e598",
   "metadata": {},
   "outputs": [
    {
     "data": {
      "text/plain": [
       "{'test_loss': 0.23187363147735596,\n",
       " 'test_acc': 0.9517543859649122,\n",
       " 'number_of_parameters': 7705221,\n",
       " 'model_size (MB)': 29.824288368225098}"
      ]
     },
     "execution_count": 13,
     "metadata": {},
     "output_type": "execute_result"
    }
   ],
   "source": [
    "# Create a dictionary with EffNetB2 statistics\n",
    "effnetb2_stats = {\"test_loss\" : effnetb2_results[\"test_loss\"][-1], \n",
    "                  \"test_acc\": effnetb2_results[\"test_acc\"][-1],\n",
    "                  \"number_of_parameters\": effnetb2_total_params,\n",
    "                  \"model_size (MB)\": pretrained_effnetb2_model_size}\n",
    "\n",
    "effnetb2_stats"
   ]
  },
  {
   "cell_type": "code",
   "execution_count": null,
   "id": "40f3d03d",
   "metadata": {},
   "outputs": [],
   "source": []
  },
  {
   "cell_type": "code",
   "execution_count": null,
   "id": "d7912952",
   "metadata": {},
   "outputs": [],
   "source": []
  },
  {
   "cell_type": "markdown",
   "id": "eadbc36b",
   "metadata": {},
   "source": [
    "# 4. Experimenting with Vision Transformer feature extractor"
   ]
  },
  {
   "cell_type": "markdown",
   "id": "18554101",
   "metadata": {},
   "source": [
    "### 4.1 Creating a ViT feature extractor"
   ]
  },
  {
   "cell_type": "code",
   "execution_count": 14,
   "id": "a7731aa7",
   "metadata": {},
   "outputs": [],
   "source": [
    "def create_vit_model(num_classes: int = 3,\n",
    "                     seed: int = 42):\n",
    "    \n",
    "    # Create ViT_B_16 pretrained weights, transforms and model\n",
    "    weights = torchvision.models.ViT_B_16_Weights.DEFAULT\n",
    "    vit_transforms = weights.transforms()\n",
    "    vit_model = torchvision.models.vit_b_16(weights = weights)\n",
    "    \n",
    "    # Freeze base layers\n",
    "    for param in vit_model.parameters():\n",
    "        param.requires_grad = False\n",
    "        \n",
    "    # Change classifier head with random seed for reproducibility.    \n",
    "    torch.manual_seed(seed)\n",
    "    vit_model.heads = nn.Sequential(nn.Linear(\n",
    "        in_features = 768, \n",
    "        out_features = num_classes))\n",
    "\n",
    "    return vit_model, vit_transforms"
   ]
  },
  {
   "cell_type": "code",
   "execution_count": 15,
   "id": "c57763e2",
   "metadata": {},
   "outputs": [],
   "source": [
    "vit_model, vit_transforms = create_vit_model()"
   ]
  },
  {
   "cell_type": "code",
   "execution_count": 16,
   "id": "58502b0e",
   "metadata": {},
   "outputs": [
    {
     "data": {
      "text/plain": [
       "========================================================================================================================\n",
       "Layer (type (var_name))                                      Input Shape          Output Shape         Trainable\n",
       "========================================================================================================================\n",
       "VisionTransformer (VisionTransformer)                        [1, 3, 224, 224]     [1, 3]               Partial\n",
       "├─Conv2d (conv_proj)                                         [1, 3, 224, 224]     [1, 768, 14, 14]     False\n",
       "├─Encoder (encoder)                                          [1, 197, 768]        [1, 197, 768]        False\n",
       "│    └─Dropout (dropout)                                     [1, 197, 768]        [1, 197, 768]        --\n",
       "│    └─Sequential (layers)                                   [1, 197, 768]        [1, 197, 768]        False\n",
       "│    │    └─EncoderBlock (encoder_layer_0)                   [1, 197, 768]        [1, 197, 768]        False\n",
       "│    │    └─EncoderBlock (encoder_layer_1)                   [1, 197, 768]        [1, 197, 768]        False\n",
       "│    │    └─EncoderBlock (encoder_layer_2)                   [1, 197, 768]        [1, 197, 768]        False\n",
       "│    │    └─EncoderBlock (encoder_layer_3)                   [1, 197, 768]        [1, 197, 768]        False\n",
       "│    │    └─EncoderBlock (encoder_layer_4)                   [1, 197, 768]        [1, 197, 768]        False\n",
       "│    │    └─EncoderBlock (encoder_layer_5)                   [1, 197, 768]        [1, 197, 768]        False\n",
       "│    │    └─EncoderBlock (encoder_layer_6)                   [1, 197, 768]        [1, 197, 768]        False\n",
       "│    │    └─EncoderBlock (encoder_layer_7)                   [1, 197, 768]        [1, 197, 768]        False\n",
       "│    │    └─EncoderBlock (encoder_layer_8)                   [1, 197, 768]        [1, 197, 768]        False\n",
       "│    │    └─EncoderBlock (encoder_layer_9)                   [1, 197, 768]        [1, 197, 768]        False\n",
       "│    │    └─EncoderBlock (encoder_layer_10)                  [1, 197, 768]        [1, 197, 768]        False\n",
       "│    │    └─EncoderBlock (encoder_layer_11)                  [1, 197, 768]        [1, 197, 768]        False\n",
       "│    └─LayerNorm (ln)                                        [1, 197, 768]        [1, 197, 768]        False\n",
       "├─Sequential (heads)                                         [1, 768]             [1, 3]               True\n",
       "│    └─Linear (0)                                            [1, 768]             [1, 3]               True\n",
       "========================================================================================================================\n",
       "Total params: 85,800,963\n",
       "Trainable params: 2,307\n",
       "Non-trainable params: 85,798,656\n",
       "Total mult-adds (M): 172.47\n",
       "========================================================================================================================\n",
       "Input size (MB): 0.60\n",
       "Forward/backward pass size (MB): 104.09\n",
       "Params size (MB): 229.20\n",
       "Estimated Total Size (MB): 333.89\n",
       "========================================================================================================================"
      ]
     },
     "execution_count": 16,
     "metadata": {},
     "output_type": "execute_result"
    }
   ],
   "source": [
    "### Getting a summary of our model with torch.summary()\n",
    "from torchinfo import summary\n",
    "\n",
    "summary(\n",
    "    model = vit_model,\n",
    "    input_size = (1, 3, 224, 224,),  # -> input_size = (BS, Color_channel, IMG_SIZE, IMG_SIZE)\n",
    "    col_names = [\"input_size\", \"output_size\", \"trainable\"],  # names of columns you want.\n",
    "    col_width = 20,\n",
    "    row_settings = [\"var_names\"],\n",
    "    )"
   ]
  },
  {
   "cell_type": "code",
   "execution_count": null,
   "id": "19c37bb9",
   "metadata": {},
   "outputs": [],
   "source": []
  },
  {
   "cell_type": "code",
   "execution_count": null,
   "id": "0943cbd8",
   "metadata": {},
   "outputs": [],
   "source": []
  },
  {
   "cell_type": "markdown",
   "id": "7726a7d8",
   "metadata": {},
   "source": [
    "### 4.2 Create DataLoaders for ViT feature extractor"
   ]
  },
  {
   "cell_type": "code",
   "execution_count": 17,
   "id": "313be324",
   "metadata": {},
   "outputs": [
    {
     "name": "stdout",
     "output_type": "stream",
     "text": [
      "57, 19, ['pizza', 'steak', 'sushi']\n"
     ]
    }
   ],
   "source": [
    "from going_moduler import data_setup\n",
    "\n",
    "train_dataloader_vit, test_dataloader_vit, class_names = data_setup.create_dataloaders(train_dir = train_dir,\n",
    "                                                                                       test_dir = test_dir,\n",
    "                                                                                       transform = vit_transforms,\n",
    "                                                                                       batch_size = 8,\n",
    "                                                                                       num_workers = os.cpu_count())\n",
    "\n",
    "\n",
    "print(f\"{len(train_dataloader_vit)}, {len(test_dataloader_vit)}, {class_names}\")"
   ]
  },
  {
   "cell_type": "code",
   "execution_count": null,
   "id": "63448b7b",
   "metadata": {},
   "outputs": [],
   "source": []
  },
  {
   "cell_type": "code",
   "execution_count": null,
   "id": "7a600d12",
   "metadata": {},
   "outputs": [],
   "source": []
  },
  {
   "cell_type": "markdown",
   "id": "ea374e28",
   "metadata": {},
   "source": [
    "### 4.3 Training ViT Feature Extractor"
   ]
  },
  {
   "cell_type": "code",
   "execution_count": 18,
   "id": "d573bda2",
   "metadata": {},
   "outputs": [
    {
     "data": {
      "application/vnd.jupyter.widget-view+json": {
       "model_id": "de4360692eac44d1960cccefa0d1adf8",
       "version_major": 2,
       "version_minor": 0
      },
      "text/plain": [
       "  0%|          | 0/10 [00:00<?, ?it/s]"
      ]
     },
     "metadata": {},
     "output_type": "display_data"
    },
    {
     "name": "stdout",
     "output_type": "stream",
     "text": [
      "Epoch: 0 | Train Loss: 0.3888 | Train acc: 0.8750 | Test Loss: 0.1153 | Test Acc: 0.9737\n",
      "Epoch: 1 | Train Loss: 0.1348 | Train acc: 0.9539 | Test Loss: 0.0816 | Test Acc: 0.9803\n",
      "Epoch: 2 | Train Loss: 0.0894 | Train acc: 0.9737 | Test Loss: 0.0755 | Test Acc: 0.9737\n",
      "Epoch: 3 | Train Loss: 0.0635 | Train acc: 0.9868 | Test Loss: 0.0599 | Test Acc: 0.9737\n",
      "Epoch: 4 | Train Loss: 0.0474 | Train acc: 0.9956 | Test Loss: 0.0617 | Test Acc: 0.9803\n",
      "Epoch: 5 | Train Loss: 0.0416 | Train acc: 0.9956 | Test Loss: 0.0570 | Test Acc: 0.9737\n",
      "Epoch: 6 | Train Loss: 0.0306 | Train acc: 0.9978 | Test Loss: 0.0579 | Test Acc: 0.9803\n",
      "Epoch: 7 | Train Loss: 0.0255 | Train acc: 1.0000 | Test Loss: 0.0543 | Test Acc: 0.9803\n",
      "Epoch: 8 | Train Loss: 0.0224 | Train acc: 1.0000 | Test Loss: 0.0528 | Test Acc: 0.9737\n",
      "Epoch: 9 | Train Loss: 0.0174 | Train acc: 1.0000 | Test Loss: 0.0522 | Test Acc: 0.9737\n"
     ]
    }
   ],
   "source": [
    "from going_moduler import engine\n",
    "\n",
    "# Create Optimizer and Loss Function\n",
    "optimizer = torch.optim.Adam(params = vit_model.parameters(),\n",
    "                             lr = 1e-3)\n",
    "\n",
    "loss_fn = torch.nn.CrossEntropyLoss()\n",
    "\n",
    "# Training function (engine.py)\n",
    "set_seeds()\n",
    "vit_results = engine.train(model = vit_model,\n",
    "                                train_dataloader = train_dataloader_vit,\n",
    "                                test_dataloader = test_dataloader_vit,\n",
    "                                epochs = 10,\n",
    "                                optimizer = optimizer,\n",
    "                                loss_fn = loss_fn,\n",
    "                                device = device)"
   ]
  },
  {
   "cell_type": "code",
   "execution_count": null,
   "id": "d9ea164a",
   "metadata": {},
   "outputs": [],
   "source": []
  },
  {
   "cell_type": "markdown",
   "id": "eaa2518d",
   "metadata": {},
   "source": [
    "### 4.4 Inspecting ViT loss curves"
   ]
  },
  {
   "cell_type": "code",
   "execution_count": 19,
   "id": "587e9668",
   "metadata": {},
   "outputs": [
    {
     "data": {
      "image/png": "[encoded data removed]",
      "text/plain": [
       "<Figure size 1080x504 with 2 Axes>"
      ]
     },
     "metadata": {
      "needs_background": "light"
     },
     "output_type": "display_data"
    }
   ],
   "source": [
    "from helper_functions import plot_loss_curves\n",
    "\n",
    "plot_loss_curves(vit_results)"
   ]
  },
  {
   "cell_type": "code",
   "execution_count": null,
   "id": "b706ea8a",
   "metadata": {},
   "outputs": [],
   "source": []
  },
  {
   "cell_type": "code",
   "execution_count": null,
   "id": "46c5ff94",
   "metadata": {},
   "outputs": [],
   "source": []
  },
  {
   "cell_type": "markdown",
   "id": "4f4b148f",
   "metadata": {},
   "source": [
    "### 4.5 Saving ViT feature extractor"
   ]
  },
  {
   "cell_type": "code",
   "execution_count": 20,
   "id": "2e1d868f",
   "metadata": {},
   "outputs": [
    {
     "name": "stdout",
     "output_type": "stream",
     "text": [
      "[INFO] Saving model to: models/17_pretrained_vit_20_percent.pth\n"
     ]
    }
   ],
   "source": [
    "from going_moduler import utils\n",
    "\n",
    "utils.save_model(model = vit_model,\n",
    "                 target_dir = \"models\",\n",
    "                 model_name = \"17_pretrained_vit_20_percent.pth\")"
   ]
  },
  {
   "cell_type": "code",
   "execution_count": null,
   "id": "eeab6656",
   "metadata": {},
   "outputs": [],
   "source": []
  },
  {
   "cell_type": "markdown",
   "id": "cdc158ea",
   "metadata": {},
   "source": [
    "### 4.6 Inspecting the size of our vit model\n",
    "\n",
    "Check the model size, if its too large, we may not be able to deploy on our target device."
   ]
  },
  {
   "cell_type": "code",
   "execution_count": 21,
   "id": "e8e91b91",
   "metadata": {},
   "outputs": [
    {
     "name": "stdout",
     "output_type": "stream",
     "text": [
      "Pretrained ViT feature extractor model size: 327.36 MB\n"
     ]
    }
   ],
   "source": [
    "from pathlib import Path\n",
    "\n",
    "# Get the model size in bytes and convert it to megabytes.\n",
    "pretrained_vit_model_size = Path(os.path.join(\"models\", \"17_pretrained_vit_20_percent.pth\")).stat().st_size / (1024 * 1024)\n",
    "print(f\"Pretrained ViT feature extractor model size: {round(pretrained_vit_model_size, 2)} MB\")"
   ]
  },
  {
   "cell_type": "code",
   "execution_count": null,
   "id": "a8d7e35e",
   "metadata": {},
   "outputs": [],
   "source": []
  },
  {
   "cell_type": "markdown",
   "id": "0285071d",
   "metadata": {},
   "source": [
    "### 4.7 Collecting ViT Feature Extractor stats"
   ]
  },
  {
   "cell_type": "code",
   "execution_count": 22,
   "id": "7c6f0819",
   "metadata": {},
   "outputs": [
    {
     "data": {
      "text/plain": [
       "85800963"
      ]
     },
     "execution_count": 22,
     "metadata": {},
     "output_type": "execute_result"
    }
   ],
   "source": [
    "# Count number of paramaters in ViT\n",
    "vit_total_params = sum(torch.numel(param) for param in vit_model.parameters())\n",
    "vit_total_params"
   ]
  },
  {
   "cell_type": "code",
   "execution_count": 23,
   "id": "7a0328a8",
   "metadata": {},
   "outputs": [
    {
     "data": {
      "text/plain": [
       "{'test_loss': 0.05216844586079548,\n",
       " 'test_acc': 0.9736842105263158,\n",
       " 'number_of_parameters': 85800963,\n",
       " 'model_size (MB)': 327.36128330230713}"
      ]
     },
     "execution_count": 23,
     "metadata": {},
     "output_type": "execute_result"
    }
   ],
   "source": [
    "# Create a dictionary with ViT statistics\n",
    "vit_stats = {\"test_loss\" : vit_results[\"test_loss\"][-1], \n",
    "             \"test_acc\": vit_results[\"test_acc\"][-1],\n",
    "             \"number_of_parameters\": vit_total_params,\n",
    "             \"model_size (MB)\": pretrained_vit_model_size}\n",
    "\n",
    "vit_stats"
   ]
  },
  {
   "cell_type": "code",
   "execution_count": null,
   "id": "80dd53d3",
   "metadata": {},
   "outputs": [],
   "source": []
  },
  {
   "cell_type": "code",
   "execution_count": null,
   "id": "f3be4e0e",
   "metadata": {},
   "outputs": [],
   "source": []
  },
  {
   "cell_type": "markdown",
   "id": "c0b6cc7d",
   "metadata": {},
   "source": [
    "# 5. Making predictions with our trained models and timing them\n",
    "\n",
    "our goal: \n",
    "1) Performs well (95% test accuracy)\n",
    "2) Fast (30+ FPS)\n",
    "\n",
    "To test criteria two:\n",
    "1. Loop though test images.\n",
    "2. Time how long each model takes to make a prediction on the image.\n",
    "\n",
    "Let's work towards making a function called `pred_and_store()` to do so.\n",
    "\n",
    "First we will need a list of test image paths."
   ]
  },
  {
   "cell_type": "code",
   "execution_count": 24,
   "id": "9c8c72c6",
   "metadata": {},
   "outputs": [
    {
     "data": {
      "text/plain": [
       "[PosixPath('Datasets/pizza_steak_sushi_20_percent/test/pizza/3375083.jpg'),\n",
       " PosixPath('Datasets/pizza_steak_sushi_20_percent/test/pizza/1001116.jpg'),\n",
       " PosixPath('Datasets/pizza_steak_sushi_20_percent/test/pizza/1032754.jpg'),\n",
       " PosixPath('Datasets/pizza_steak_sushi_20_percent/test/pizza/1067986.jpg'),\n",
       " PosixPath('Datasets/pizza_steak_sushi_20_percent/test/pizza/129666.jpg')]"
      ]
     },
     "execution_count": 24,
     "metadata": {},
     "output_type": "execute_result"
    }
   ],
   "source": [
    "from pathlib import Path\n",
    "\n",
    "# Get all test data paths\n",
    "test_data_paths = list(Path(test_dir).glob(\"*/*.jpg\"))\n",
    "test_data_paths[:5]"
   ]
  },
  {
   "cell_type": "code",
   "execution_count": null,
   "id": "fbafd9d9",
   "metadata": {},
   "outputs": [],
   "source": []
  },
  {
   "cell_type": "code",
   "execution_count": null,
   "id": "cd307f5d",
   "metadata": {},
   "outputs": [],
   "source": []
  },
  {
   "cell_type": "markdown",
   "id": "a5dc9a92",
   "metadata": {},
   "source": [
    "### 5.1 Create a function to make across the test dataset\n",
    "\n",
    "1. Create a function that takes a list of paths, a trained PyTorch model, a series of transforms, a list of target class names and a target device.\n",
    "2. Create an empty list (can return a full list of all predictions later).\n",
    "3. Loop through the target input paths (the rest of the steps will take place inside the loop).\n",
    "4. Create an empty dictionary for each sample (prediction statistics will go in here).\n",
    "5. Get the sample path and ground truth class from the filepath.\n",
    "6. Start the prediction timer.\n",
    "7. Open the image using `PIL.Image.open(path)`.\n",
    "8. Transform the image to be usable with a given model.\n",
    "9. Prepare the model for inference by sending to the target device and turning on `eval()` mode.\n",
    "10. Turn on `torch.inference_mode()` and pass the target transformed image to the model and perform forward pass + calculate pred prob + pred class.\n",
    "11. Add the pred prob + pred class to empty dictionary from step 4.\n",
    "12. End the prediction timer started in step 6 and add the time to the prediction dictionary.\n",
    "13. See if the predicted class matches the ground truth class.\n",
    "14. Append the updated prediction dictionary to the empty list of predictions we created in step 2.\n",
    "15. Return the list of prediction dictionary."
   ]
  },
  {
   "cell_type": "code",
   "execution_count": 25,
   "id": "72f6d51f",
   "metadata": {},
   "outputs": [],
   "source": [
    "import pathlib\n",
    "from PIL import Image\n",
    "from timeit import default_timer as timer\n",
    "from tqdm.auto import tqdm\n",
    "\n",
    "# 1. Create a function that takes a list of paths and a trained PyTorch model and a series of transforms, a list of target class names and a target device.\n",
    "def pred_and_store(paths: list[pathlib.Path],\n",
    "                   model: torch.nn.Module,\n",
    "                   transform: torchvision.transforms,\n",
    "                   class_names: list[str], \n",
    "                   device = \"cuda\" if torch.cuda.is_available() else \"cpu\") -> list[dict]:\n",
    "    \n",
    "    # 2. Create an empty list (can return a full list of all predictions later).\n",
    "    pred_list = []\n",
    "    \n",
    "    # 3. Loop through the target input paths (the rest of the steps will take place inside the loop).\n",
    "    for path in tqdm(paths):\n",
    "        \n",
    "        # 4. Create an empty dictionary for each sample (prediction statistics will go in here).\n",
    "        pred_dict = {}\n",
    "        \n",
    "        # 5. Get the sample path and ground truth class from the filepath.\n",
    "        pred_dict[\"image_path\"] = path\n",
    "        class_name = path.parent.stem\n",
    "        pred_dict[\"class_name\"] = class_name\n",
    "        \n",
    "        # 6. Start the prediction timer.\n",
    "        start_time = timer()\n",
    "        \n",
    "        # 7. Open the image using Image.open(path).\n",
    "        img = Image.open(path)\n",
    "        \n",
    "        # 8. Transform the image to be usable with a given model.\n",
    "        transformed_image = transform(img).unsqueeze(dim = 0).to(device)\n",
    "        \n",
    "        # 9. Prepare the model for inference by sending to the target device and turning on eval() mode.\n",
    "        model = model.to(device)\n",
    "        \n",
    "        # 10. Turn on torch.inference_mode() and pass the target transformed image to the model and perform forward pass + calculate pred prob + pred class.\n",
    "        with torch.inference_mode():\n",
    "            pred_logit = model(transformed_image)\n",
    "            pred_prob = torch.softmax(pred_logit, dim = 1) # -> turn logits into prediction probabilities.\n",
    "            pred_label = torch.argmax(pred_prob, dim = 1)  # -> turn prediction probability into prediction label\n",
    "            pred_class = class_names[pred_label.cpu()]     # Python variables lives in cpu so converted lables numpy array from tensor.\n",
    "            \n",
    "            # 11. Add the pred prob + pred class to empty dictionary from step 4.\n",
    "            pred_dict[\"pred_prob\"] = round(pred_prob.unsqueeze(dim = 0).max().cpu().item(), 4)\n",
    "            pred_dict[\"pred_class\"] = pred_class\n",
    "            \n",
    "            # 12. End the prediction timer started in step 6 and add the time to the prediction dictionary.\n",
    "            end_time = timer()\n",
    "            pred_dict[\"time_for_pred\"] = round(end_time - start_time, 4)\n",
    "            \n",
    "            \n",
    "        # 13. See if the predicted class matches the ground truth class.\n",
    "        pred_dict[\"correct\"] = class_name == pred_class\n",
    "        \n",
    "        # 14. Append the updated prediction dictionary to the empty list of predictions we created in step 2.\n",
    "        pred_list.append(pred_dict)\n",
    "        \n",
    "    # 15. Return the list of prediction dictionary.\n",
    "    return pred_list    "
   ]
  },
  {
   "cell_type": "code",
   "execution_count": null,
   "id": "28646a6e",
   "metadata": {},
   "outputs": [],
   "source": []
  },
  {
   "cell_type": "code",
   "execution_count": null,
   "id": "8f068180",
   "metadata": {},
   "outputs": [],
   "source": []
  },
  {
   "cell_type": "markdown",
   "id": "4092b1fc",
   "metadata": {},
   "source": [
    "### 5.2 Making and timing predictions with EffNetB2\n",
    "\n",
    "Let's test our `pred_and_store()` function.\n",
    "\n",
    "Two things to note:\n",
    "1. Device - we are going to hardcode our predictions to happen on CPU because you wont always be sure of having a GPU when you deploy your model.\n",
    "2. Transforms - We want to make sure each of the models are predicting on images that have been prepared with the appropriate transforms."
   ]
  },
  {
   "cell_type": "code",
   "execution_count": 26,
   "id": "f6eeffb8",
   "metadata": {},
   "outputs": [
    {
     "data": {
      "application/vnd.jupyter.widget-view+json": {
       "model_id": "e8834de2eac34368871875473a03df50",
       "version_major": 2,
       "version_minor": 0
      },
      "text/plain": [
       "  0%|          | 0/150 [00:00<?, ?it/s]"
      ]
     },
     "metadata": {},
     "output_type": "display_data"
    }
   ],
   "source": [
    "# Make predictions across test dataset with EffNetB2\n",
    "effnetb2_test_pred_dicts = pred_and_store(paths = test_data_paths,\n",
    "                                          model = effnetb2,\n",
    "                                          transform = effnetb2_transforms,\n",
    "                                          class_names = class_names,\n",
    "                                          device = \"cpu\")  # hardcode predictions to happen on CPU."
   ]
  },
  {
   "cell_type": "code",
   "execution_count": 27,
   "id": "d6432b9a",
   "metadata": {},
   "outputs": [
    {
     "data": {
      "text/plain": [
       "[{'image_path': PosixPath('Datasets/pizza_steak_sushi_20_percent/test/pizza/3375083.jpg'),\n",
       "  'class_name': 'pizza',\n",
       "  'pred_prob': 0.9572,\n",
       "  'pred_class': 'pizza',\n",
       "  'time_for_pred': 0.1789,\n",
       "  'correct': True},\n",
       " {'image_path': PosixPath('Datasets/pizza_steak_sushi_20_percent/test/pizza/1001116.jpg'),\n",
       "  'class_name': 'pizza',\n",
       "  'pred_prob': 0.9989,\n",
       "  'pred_class': 'pizza',\n",
       "  'time_for_pred': 0.0986,\n",
       "  'correct': True},\n",
       " {'image_path': PosixPath('Datasets/pizza_steak_sushi_20_percent/test/pizza/1032754.jpg'),\n",
       "  'class_name': 'pizza',\n",
       "  'pred_prob': 0.576,\n",
       "  'pred_class': 'pizza',\n",
       "  'time_for_pred': 0.114,\n",
       "  'correct': True},\n",
       " {'image_path': PosixPath('Datasets/pizza_steak_sushi_20_percent/test/pizza/1067986.jpg'),\n",
       "  'class_name': 'pizza',\n",
       "  'pred_prob': 0.9982,\n",
       "  'pred_class': 'pizza',\n",
       "  'time_for_pred': 0.1013,\n",
       "  'correct': True},\n",
       " {'image_path': PosixPath('Datasets/pizza_steak_sushi_20_percent/test/pizza/129666.jpg'),\n",
       "  'class_name': 'pizza',\n",
       "  'pred_prob': 0.7338,\n",
       "  'pred_class': 'pizza',\n",
       "  'time_for_pred': 0.1437,\n",
       "  'correct': True},\n",
       " {'image_path': PosixPath('Datasets/pizza_steak_sushi_20_percent/test/pizza/1315645.jpg'),\n",
       "  'class_name': 'pizza',\n",
       "  'pred_prob': 0.8045,\n",
       "  'pred_class': 'pizza',\n",
       "  'time_for_pred': 0.1215,\n",
       "  'correct': True},\n",
       " {'image_path': PosixPath('Datasets/pizza_steak_sushi_20_percent/test/pizza/138961.jpg'),\n",
       "  'class_name': 'pizza',\n",
       "  'pred_prob': 0.6512,\n",
       "  'pred_class': 'pizza',\n",
       "  'time_for_pred': 0.2474,\n",
       "  'correct': True},\n",
       " {'image_path': PosixPath('Datasets/pizza_steak_sushi_20_percent/test/pizza/148765.jpg'),\n",
       "  'class_name': 'pizza',\n",
       "  'pred_prob': 0.9561,\n",
       "  'pred_class': 'pizza',\n",
       "  'time_for_pred': 0.4801,\n",
       "  'correct': True},\n",
       " {'image_path': PosixPath('Datasets/pizza_steak_sushi_20_percent/test/pizza/1555015.jpg'),\n",
       "  'class_name': 'pizza',\n",
       "  'pred_prob': 0.98,\n",
       "  'pred_class': 'pizza',\n",
       "  'time_for_pred': 0.4873,\n",
       "  'correct': True},\n",
       " {'image_path': PosixPath('Datasets/pizza_steak_sushi_20_percent/test/pizza/1618659.jpg'),\n",
       "  'class_name': 'pizza',\n",
       "  'pred_prob': 0.4793,\n",
       "  'pred_class': 'sushi',\n",
       "  'time_for_pred': 0.4983,\n",
       "  'correct': False},\n",
       " {'image_path': PosixPath('Datasets/pizza_steak_sushi_20_percent/test/pizza/1687143.jpg'),\n",
       "  'class_name': 'pizza',\n",
       "  'pred_prob': 0.974,\n",
       "  'pred_class': 'pizza',\n",
       "  'time_for_pred': 0.4826,\n",
       "  'correct': True},\n",
       " {'image_path': PosixPath('Datasets/pizza_steak_sushi_20_percent/test/pizza/204151.jpg'),\n",
       "  'class_name': 'pizza',\n",
       "  'pred_prob': 0.9873,\n",
       "  'pred_class': 'pizza',\n",
       "  'time_for_pred': 0.4938,\n",
       "  'correct': True},\n",
       " {'image_path': PosixPath('Datasets/pizza_steak_sushi_20_percent/test/pizza/2111981.jpg'),\n",
       "  'class_name': 'pizza',\n",
       "  'pred_prob': 0.9769,\n",
       "  'pred_class': 'pizza',\n",
       "  'time_for_pred': 0.4882,\n",
       "  'correct': True},\n",
       " {'image_path': PosixPath('Datasets/pizza_steak_sushi_20_percent/test/pizza/2250611.jpg'),\n",
       "  'class_name': 'pizza',\n",
       "  'pred_prob': 0.9231,\n",
       "  'pred_class': 'pizza',\n",
       "  'time_for_pred': 0.4776,\n",
       "  'correct': True},\n",
       " {'image_path': PosixPath('Datasets/pizza_steak_sushi_20_percent/test/pizza/2398925.jpg'),\n",
       "  'class_name': 'pizza',\n",
       "  'pred_prob': 0.9603,\n",
       "  'pred_class': 'pizza',\n",
       "  'time_for_pred': 0.4941,\n",
       "  'correct': True},\n",
       " {'image_path': PosixPath('Datasets/pizza_steak_sushi_20_percent/test/pizza/2549661.jpg'),\n",
       "  'class_name': 'pizza',\n",
       "  'pred_prob': 0.99,\n",
       "  'pred_class': 'pizza',\n",
       "  'time_for_pred': 0.4721,\n",
       "  'correct': True},\n",
       " {'image_path': PosixPath('Datasets/pizza_steak_sushi_20_percent/test/pizza/2572488.jpg'),\n",
       "  'class_name': 'pizza',\n",
       "  'pred_prob': 0.9684,\n",
       "  'pred_class': 'pizza',\n",
       "  'time_for_pred': 0.4874,\n",
       "  'correct': True},\n",
       " {'image_path': PosixPath('Datasets/pizza_steak_sushi_20_percent/test/pizza/2582289.jpg'),\n",
       "  'class_name': 'pizza',\n",
       "  'pred_prob': 0.9838,\n",
       "  'pred_class': 'pizza',\n",
       "  'time_for_pred': 0.4764,\n",
       "  'correct': True},\n",
       " {'image_path': PosixPath('Datasets/pizza_steak_sushi_20_percent/test/pizza/2782998.jpg'),\n",
       "  'class_name': 'pizza',\n",
       "  'pred_prob': 0.7561,\n",
       "  'pred_class': 'pizza',\n",
       "  'time_for_pred': 0.4852,\n",
       "  'correct': True},\n",
       " {'image_path': PosixPath('Datasets/pizza_steak_sushi_20_percent/test/pizza/2901001.jpg'),\n",
       "  'class_name': 'pizza',\n",
       "  'pred_prob': 0.8852,\n",
       "  'pred_class': 'pizza',\n",
       "  'time_for_pred': 0.5115,\n",
       "  'correct': True},\n",
       " {'image_path': PosixPath('Datasets/pizza_steak_sushi_20_percent/test/pizza/296426.jpg'),\n",
       "  'class_name': 'pizza',\n",
       "  'pred_prob': 0.9455,\n",
       "  'pred_class': 'pizza',\n",
       "  'time_for_pred': 0.4966,\n",
       "  'correct': True},\n",
       " {'image_path': PosixPath('Datasets/pizza_steak_sushi_20_percent/test/pizza/2997525.jpg'),\n",
       "  'class_name': 'pizza',\n",
       "  'pred_prob': 0.9933,\n",
       "  'pred_class': 'pizza',\n",
       "  'time_for_pred': 0.4866,\n",
       "  'correct': True},\n",
       " {'image_path': PosixPath('Datasets/pizza_steak_sushi_20_percent/test/pizza/3174637.jpg'),\n",
       "  'class_name': 'pizza',\n",
       "  'pred_prob': 0.9725,\n",
       "  'pred_class': 'pizza',\n",
       "  'time_for_pred': 0.5079,\n",
       "  'correct': True},\n",
       " {'image_path': PosixPath('Datasets/pizza_steak_sushi_20_percent/test/pizza/3376617.jpg'),\n",
       "  'class_name': 'pizza',\n",
       "  'pred_prob': 0.8263,\n",
       "  'pred_class': 'pizza',\n",
       "  'time_for_pred': 0.1823,\n",
       "  'correct': True},\n",
       " {'image_path': PosixPath('Datasets/pizza_steak_sushi_20_percent/test/pizza/3486640.jpg'),\n",
       "  'class_name': 'pizza',\n",
       "  'pred_prob': 0.9936,\n",
       "  'pred_class': 'pizza',\n",
       "  'time_for_pred': 0.0861,\n",
       "  'correct': True},\n",
       " {'image_path': PosixPath('Datasets/pizza_steak_sushi_20_percent/test/pizza/3497151.jpg'),\n",
       "  'class_name': 'pizza',\n",
       "  'pred_prob': 0.9987,\n",
       "  'pred_class': 'pizza',\n",
       "  'time_for_pred': 0.0977,\n",
       "  'correct': True},\n",
       " {'image_path': PosixPath('Datasets/pizza_steak_sushi_20_percent/test/pizza/3729167.jpg'),\n",
       "  'class_name': 'pizza',\n",
       "  'pred_prob': 0.9836,\n",
       "  'pred_class': 'pizza',\n",
       "  'time_for_pred': 0.1162,\n",
       "  'correct': True},\n",
       " {'image_path': PosixPath('Datasets/pizza_steak_sushi_20_percent/test/pizza/3770514.jpg'),\n",
       "  'class_name': 'pizza',\n",
       "  'pred_prob': 0.9962,\n",
       "  'pred_class': 'pizza',\n",
       "  'time_for_pred': 0.0944,\n",
       "  'correct': True},\n",
       " {'image_path': PosixPath('Datasets/pizza_steak_sushi_20_percent/test/pizza/3785667.jpg'),\n",
       "  'class_name': 'pizza',\n",
       "  'pred_prob': 0.8727,\n",
       "  'pred_class': 'pizza',\n",
       "  'time_for_pred': 0.0986,\n",
       "  'correct': True},\n",
       " {'image_path': PosixPath('Datasets/pizza_steak_sushi_20_percent/test/pizza/380739.jpg'),\n",
       "  'class_name': 'pizza',\n",
       "  'pred_prob': 0.989,\n",
       "  'pred_class': 'pizza',\n",
       "  'time_for_pred': 0.1,\n",
       "  'correct': True},\n",
       " {'image_path': PosixPath('Datasets/pizza_steak_sushi_20_percent/test/pizza/416067.jpg'),\n",
       "  'class_name': 'pizza',\n",
       "  'pred_prob': 0.9849,\n",
       "  'pred_class': 'pizza',\n",
       "  'time_for_pred': 0.1523,\n",
       "  'correct': True},\n",
       " {'image_path': PosixPath('Datasets/pizza_steak_sushi_20_percent/test/pizza/419962.jpg'),\n",
       "  'class_name': 'pizza',\n",
       "  'pred_prob': 0.5916,\n",
       "  'pred_class': 'pizza',\n",
       "  'time_for_pred': 0.1284,\n",
       "  'correct': True},\n",
       " {'image_path': PosixPath('Datasets/pizza_steak_sushi_20_percent/test/pizza/420409.jpg'),\n",
       "  'class_name': 'pizza',\n",
       "  'pred_prob': 0.8877,\n",
       "  'pred_class': 'pizza',\n",
       "  'time_for_pred': 0.4139,\n",
       "  'correct': True},\n",
       " {'image_path': PosixPath('Datasets/pizza_steak_sushi_20_percent/test/pizza/441659.jpg'),\n",
       "  'class_name': 'pizza',\n",
       "  'pred_prob': 0.8422,\n",
       "  'pred_class': 'pizza',\n",
       "  'time_for_pred': 0.6262,\n",
       "  'correct': True},\n",
       " {'image_path': PosixPath('Datasets/pizza_steak_sushi_20_percent/test/pizza/44810.jpg'),\n",
       "  'class_name': 'pizza',\n",
       "  'pred_prob': 0.9288,\n",
       "  'pred_class': 'pizza',\n",
       "  'time_for_pred': 0.5878,\n",
       "  'correct': True},\n",
       " {'image_path': PosixPath('Datasets/pizza_steak_sushi_20_percent/test/pizza/476421.jpg'),\n",
       "  'class_name': 'pizza',\n",
       "  'pred_prob': 0.7962,\n",
       "  'pred_class': 'pizza',\n",
       "  'time_for_pred': 0.5803,\n",
       "  'correct': True},\n",
       " {'image_path': PosixPath('Datasets/pizza_steak_sushi_20_percent/test/pizza/482858.jpg'),\n",
       "  'class_name': 'pizza',\n",
       "  'pred_prob': 0.997,\n",
       "  'pred_class': 'pizza',\n",
       "  'time_for_pred': 0.5819,\n",
       "  'correct': True},\n",
       " {'image_path': PosixPath('Datasets/pizza_steak_sushi_20_percent/test/pizza/61656.jpg'),\n",
       "  'class_name': 'pizza',\n",
       "  'pred_prob': 0.6999,\n",
       "  'pred_class': 'pizza',\n",
       "  'time_for_pred': 0.5745,\n",
       "  'correct': True},\n",
       " {'image_path': PosixPath('Datasets/pizza_steak_sushi_20_percent/test/pizza/648055.jpg'),\n",
       "  'class_name': 'pizza',\n",
       "  'pred_prob': 0.9219,\n",
       "  'pred_class': 'pizza',\n",
       "  'time_for_pred': 0.648,\n",
       "  'correct': True},\n",
       " {'image_path': PosixPath('Datasets/pizza_steak_sushi_20_percent/test/pizza/724290.jpg'),\n",
       "  'class_name': 'pizza',\n",
       "  'pred_prob': 0.8281,\n",
       "  'pred_class': 'pizza',\n",
       "  'time_for_pred': 0.6342,\n",
       "  'correct': True},\n",
       " {'image_path': PosixPath('Datasets/pizza_steak_sushi_20_percent/test/pizza/771336.jpg'),\n",
       "  'class_name': 'pizza',\n",
       "  'pred_prob': 0.8799,\n",
       "  'pred_class': 'pizza',\n",
       "  'time_for_pred': 2.6579,\n",
       "  'correct': True},\n",
       " {'image_path': PosixPath('Datasets/pizza_steak_sushi_20_percent/test/pizza/788315.jpg'),\n",
       "  'class_name': 'pizza',\n",
       "  'pred_prob': 0.8463,\n",
       "  'pred_class': 'pizza',\n",
       "  'time_for_pred': 0.0994,\n",
       "  'correct': True},\n",
       " {'image_path': PosixPath('Datasets/pizza_steak_sushi_20_percent/test/pizza/796922.jpg'),\n",
       "  'class_name': 'pizza',\n",
       "  'pred_prob': 0.8025,\n",
       "  'pred_class': 'pizza',\n",
       "  'time_for_pred': 0.1101,\n",
       "  'correct': True},\n",
       " {'image_path': PosixPath('Datasets/pizza_steak_sushi_20_percent/test/pizza/833711.jpg'),\n",
       "  'class_name': 'pizza',\n",
       "  'pred_prob': 0.8601,\n",
       "  'pred_class': 'pizza',\n",
       "  'time_for_pred': 0.0927,\n",
       "  'correct': True},\n",
       " {'image_path': PosixPath('Datasets/pizza_steak_sushi_20_percent/test/pizza/930553.jpg'),\n",
       "  'class_name': 'pizza',\n",
       "  'pred_prob': 0.9647,\n",
       "  'pred_class': 'pizza',\n",
       "  'time_for_pred': 0.0902,\n",
       "  'correct': True},\n",
       " {'image_path': PosixPath('Datasets/pizza_steak_sushi_20_percent/test/pizza/998005.jpg'),\n",
       "  'class_name': 'pizza',\n",
       "  'pred_prob': 0.7418,\n",
       "  'pred_class': 'pizza',\n",
       "  'time_for_pred': 0.1279,\n",
       "  'correct': True},\n",
       " {'image_path': PosixPath('Datasets/pizza_steak_sushi_20_percent/test/steak/3063435.jpg'),\n",
       "  'class_name': 'steak',\n",
       "  'pred_prob': 0.9822,\n",
       "  'pred_class': 'steak',\n",
       "  'time_for_pred': 0.1109,\n",
       "  'correct': True},\n",
       " {'image_path': PosixPath('Datasets/pizza_steak_sushi_20_percent/test/steak/100274.jpg'),\n",
       "  'class_name': 'steak',\n",
       "  'pred_prob': 0.4303,\n",
       "  'pred_class': 'sushi',\n",
       "  'time_for_pred': 0.0979,\n",
       "  'correct': False},\n",
       " {'image_path': PosixPath('Datasets/pizza_steak_sushi_20_percent/test/steak/1082384.jpg'),\n",
       "  'class_name': 'steak',\n",
       "  'pred_prob': 0.7322,\n",
       "  'pred_class': 'steak',\n",
       "  'time_for_pred': 0.0926,\n",
       "  'correct': True},\n",
       " {'image_path': PosixPath('Datasets/pizza_steak_sushi_20_percent/test/steak/108310.jpg'),\n",
       "  'class_name': 'steak',\n",
       "  'pred_prob': 0.8722,\n",
       "  'pred_class': 'steak',\n",
       "  'time_for_pred': 0.1101,\n",
       "  'correct': True},\n",
       " {'image_path': PosixPath('Datasets/pizza_steak_sushi_20_percent/test/steak/1166047.jpg'),\n",
       "  'class_name': 'steak',\n",
       "  'pred_prob': 0.9008,\n",
       "  'pred_class': 'steak',\n",
       "  'time_for_pred': 0.1021,\n",
       "  'correct': True},\n",
       " {'image_path': PosixPath('Datasets/pizza_steak_sushi_20_percent/test/steak/1285886.jpg'),\n",
       "  'class_name': 'steak',\n",
       "  'pred_prob': 0.9596,\n",
       "  'pred_class': 'steak',\n",
       "  'time_for_pred': 0.0905,\n",
       "  'correct': True},\n",
       " {'image_path': PosixPath('Datasets/pizza_steak_sushi_20_percent/test/steak/1302563.jpg'),\n",
       "  'class_name': 'steak',\n",
       "  'pred_prob': 0.9956,\n",
       "  'pred_class': 'steak',\n",
       "  'time_for_pred': 0.095,\n",
       "  'correct': True},\n",
       " {'image_path': PosixPath('Datasets/pizza_steak_sushi_20_percent/test/steak/1335842.jpg'),\n",
       "  'class_name': 'steak',\n",
       "  'pred_prob': 0.4975,\n",
       "  'pred_class': 'steak',\n",
       "  'time_for_pred': 0.1117,\n",
       "  'correct': True},\n",
       " {'image_path': PosixPath('Datasets/pizza_steak_sushi_20_percent/test/steak/1482489.jpg'),\n",
       "  'class_name': 'steak',\n",
       "  'pred_prob': 0.9697,\n",
       "  'pred_class': 'steak',\n",
       "  'time_for_pred': 0.1323,\n",
       "  'correct': True},\n",
       " {'image_path': PosixPath('Datasets/pizza_steak_sushi_20_percent/test/steak/1523026.jpg'),\n",
       "  'class_name': 'steak',\n",
       "  'pred_prob': 0.8229,\n",
       "  'pred_class': 'steak',\n",
       "  'time_for_pred': 0.1245,\n",
       "  'correct': True},\n",
       " {'image_path': PosixPath('Datasets/pizza_steak_sushi_20_percent/test/steak/1655387.jpg'),\n",
       "  'class_name': 'steak',\n",
       "  'pred_prob': 0.7678,\n",
       "  'pred_class': 'steak',\n",
       "  'time_for_pred': 0.115,\n",
       "  'correct': True},\n",
       " {'image_path': PosixPath('Datasets/pizza_steak_sushi_20_percent/test/steak/1848936.jpg'),\n",
       "  'class_name': 'steak',\n",
       "  'pred_prob': 0.8036,\n",
       "  'pred_class': 'steak',\n",
       "  'time_for_pred': 0.1088,\n",
       "  'correct': True},\n",
       " {'image_path': PosixPath('Datasets/pizza_steak_sushi_20_percent/test/steak/1882831.jpg'),\n",
       "  'class_name': 'steak',\n",
       "  'pred_prob': 0.7942,\n",
       "  'pred_class': 'steak',\n",
       "  'time_for_pred': 0.2235,\n",
       "  'correct': True},\n",
       " {'image_path': PosixPath('Datasets/pizza_steak_sushi_20_percent/test/steak/1902895.jpg'),\n",
       "  'class_name': 'steak',\n",
       "  'pred_prob': 0.5222,\n",
       "  'pred_class': 'sushi',\n",
       "  'time_for_pred': 0.5353,\n",
       "  'correct': False},\n",
       " {'image_path': PosixPath('Datasets/pizza_steak_sushi_20_percent/test/steak/1972463.jpg'),\n",
       "  'class_name': 'steak',\n",
       "  'pred_prob': 0.8079,\n",
       "  'pred_class': 'steak',\n",
       "  'time_for_pred': 0.5365,\n",
       "  'correct': True},\n",
       " {'image_path': PosixPath('Datasets/pizza_steak_sushi_20_percent/test/steak/1982192.jpg'),\n",
       "  'class_name': 'steak',\n",
       "  'pred_prob': 0.7048,\n",
       "  'pred_class': 'steak',\n",
       "  'time_for_pred': 0.7106,\n",
       "  'correct': True},\n",
       " {'image_path': PosixPath('Datasets/pizza_steak_sushi_20_percent/test/steak/2061929.jpg'),\n",
       "  'class_name': 'steak',\n",
       "  'pred_prob': 0.965,\n",
       "  'pred_class': 'steak',\n",
       "  'time_for_pred': 0.6355,\n",
       "  'correct': True},\n",
       " {'image_path': PosixPath('Datasets/pizza_steak_sushi_20_percent/test/steak/2069289.jpg'),\n",
       "  'class_name': 'steak',\n",
       "  'pred_prob': 0.8579,\n",
       "  'pred_class': 'steak',\n",
       "  'time_for_pred': 0.8422,\n",
       "  'correct': True},\n",
       " {'image_path': PosixPath('Datasets/pizza_steak_sushi_20_percent/test/steak/2117351.jpg'),\n",
       "  'class_name': 'steak',\n",
       "  'pred_prob': 0.9506,\n",
       "  'pred_class': 'steak',\n",
       "  'time_for_pred': 0.7619,\n",
       "  'correct': True},\n",
       " {'image_path': PosixPath('Datasets/pizza_steak_sushi_20_percent/test/steak/219196.jpg'),\n",
       "  'class_name': 'steak',\n",
       "  'pred_prob': 0.977,\n",
       "  'pred_class': 'steak',\n",
       "  'time_for_pred': 0.9596,\n",
       "  'correct': True},\n",
       " {'image_path': PosixPath('Datasets/pizza_steak_sushi_20_percent/test/steak/2246332.jpg'),\n",
       "  'class_name': 'steak',\n",
       "  'pred_prob': 0.973,\n",
       "  'pred_class': 'steak',\n",
       "  'time_for_pred': 0.8103,\n",
       "  'correct': True},\n",
       " {'image_path': PosixPath('Datasets/pizza_steak_sushi_20_percent/test/steak/2307638.jpg'),\n",
       "  'class_name': 'steak',\n",
       "  'pred_prob': 0.637,\n",
       "  'pred_class': 'steak',\n",
       "  'time_for_pred': 0.5277,\n",
       "  'correct': True},\n",
       " {'image_path': PosixPath('Datasets/pizza_steak_sushi_20_percent/test/steak/2315011.jpg'),\n",
       "  'class_name': 'steak',\n",
       "  'pred_prob': 0.8507,\n",
       "  'pred_class': 'steak',\n",
       "  'time_for_pred': 0.5221,\n",
       "  'correct': True},\n",
       " {'image_path': PosixPath('Datasets/pizza_steak_sushi_20_percent/test/steak/2353677.jpg'),\n",
       "  'class_name': 'steak',\n",
       "  'pred_prob': 0.6052,\n",
       "  'pred_class': 'steak',\n",
       "  'time_for_pred': 0.5864,\n",
       "  'correct': True},\n",
       " {'image_path': PosixPath('Datasets/pizza_steak_sushi_20_percent/test/steak/2365038.jpg'),\n",
       "  'class_name': 'steak',\n",
       "  'pred_prob': 0.7885,\n",
       "  'pred_class': 'steak',\n",
       "  'time_for_pred': 0.4933,\n",
       "  'correct': True},\n",
       " {'image_path': PosixPath('Datasets/pizza_steak_sushi_20_percent/test/steak/2475366.jpg'),\n",
       "  'class_name': 'steak',\n",
       "  'pred_prob': 0.9032,\n",
       "  'pred_class': 'steak',\n",
       "  'time_for_pred': 0.6361,\n",
       "  'correct': True},\n",
       " {'image_path': PosixPath('Datasets/pizza_steak_sushi_20_percent/test/steak/2716791.jpg'),\n",
       "  'class_name': 'steak',\n",
       "  'pred_prob': 0.6912,\n",
       "  'pred_class': 'steak',\n",
       "  'time_for_pred': 0.4878,\n",
       "  'correct': True},\n",
       " {'image_path': PosixPath('Datasets/pizza_steak_sushi_20_percent/test/steak/2752603.jpg'),\n",
       "  'class_name': 'steak',\n",
       "  'pred_prob': 0.6964,\n",
       "  'pred_class': 'steak',\n",
       "  'time_for_pred': 0.7678,\n",
       "  'correct': True},\n",
       " {'image_path': PosixPath('Datasets/pizza_steak_sushi_20_percent/test/steak/2756200.jpg'),\n",
       "  'class_name': 'steak',\n",
       "  'pred_prob': 0.9556,\n",
       "  'pred_class': 'steak',\n",
       "  'time_for_pred': 0.8681,\n",
       "  'correct': True},\n",
       " {'image_path': PosixPath('Datasets/pizza_steak_sushi_20_percent/test/steak/289822.jpg'),\n",
       "  'class_name': 'steak',\n",
       "  'pred_prob': 0.9957,\n",
       "  'pred_class': 'steak',\n",
       "  'time_for_pred': 0.6986,\n",
       "  'correct': True},\n",
       " {'image_path': PosixPath('Datasets/pizza_steak_sushi_20_percent/test/steak/3100563.jpg'),\n",
       "  'class_name': 'steak',\n",
       "  'pred_prob': 0.9742,\n",
       "  'pred_class': 'steak',\n",
       "  'time_for_pred': 0.6603,\n",
       "  'correct': True},\n",
       " {'image_path': PosixPath('Datasets/pizza_steak_sushi_20_percent/test/steak/3138001.jpg'),\n",
       "  'class_name': 'steak',\n",
       "  'pred_prob': 0.9412,\n",
       "  'pred_class': 'steak',\n",
       "  'time_for_pred': 0.1539,\n",
       "  'correct': True},\n",
       " {'image_path': PosixPath('Datasets/pizza_steak_sushi_20_percent/test/steak/3173402.jpg'),\n",
       "  'class_name': 'steak',\n",
       "  'pred_prob': 0.9416,\n",
       "  'pred_class': 'steak',\n",
       "  'time_for_pred': 0.1129,\n",
       "  'correct': True},\n",
       " {'image_path': PosixPath('Datasets/pizza_steak_sushi_20_percent/test/steak/3479599.jpg'),\n",
       "  'class_name': 'steak',\n",
       "  'pred_prob': 0.9493,\n",
       "  'pred_class': 'steak',\n",
       "  'time_for_pred': 0.1151,\n",
       "  'correct': True},\n",
       " {'image_path': PosixPath('Datasets/pizza_steak_sushi_20_percent/test/steak/3497585.jpg'),\n",
       "  'class_name': 'steak',\n",
       "  'pred_prob': 0.8859,\n",
       "  'pred_class': 'steak',\n",
       "  'time_for_pred': 0.1365,\n",
       "  'correct': True},\n",
       " {'image_path': PosixPath('Datasets/pizza_steak_sushi_20_percent/test/steak/3541033.jpg'),\n",
       "  'class_name': 'steak',\n",
       "  'pred_prob': 0.9685,\n",
       "  'pred_class': 'steak',\n",
       "  'time_for_pred': 0.1165,\n",
       "  'correct': True},\n",
       " {'image_path': PosixPath('Datasets/pizza_steak_sushi_20_percent/test/steak/3553838.jpg'),\n",
       "  'class_name': 'steak',\n",
       "  'pred_prob': 0.4565,\n",
       "  'pred_class': 'steak',\n",
       "  'time_for_pred': 0.1151,\n",
       "  'correct': True},\n",
       " {'image_path': PosixPath('Datasets/pizza_steak_sushi_20_percent/test/steak/3622237.jpg'),\n",
       "  'class_name': 'steak',\n",
       "  'pred_prob': 0.9772,\n",
       "  'pred_class': 'steak',\n",
       "  'time_for_pred': 0.1295,\n",
       "  'correct': True},\n",
       " {'image_path': PosixPath('Datasets/pizza_steak_sushi_20_percent/test/steak/367422.jpg'),\n",
       "  'class_name': 'steak',\n",
       "  'pred_prob': 0.9795,\n",
       "  'pred_class': 'steak',\n",
       "  'time_for_pred': 0.1331,\n",
       "  'correct': True},\n",
       " {'image_path': PosixPath('Datasets/pizza_steak_sushi_20_percent/test/steak/3757027.jpg'),\n",
       "  'class_name': 'steak',\n",
       "  'pred_prob': 0.5386,\n",
       "  'pred_class': 'sushi',\n",
       "  'time_for_pred': 0.1184,\n",
       "  'correct': False},\n",
       " {'image_path': PosixPath('Datasets/pizza_steak_sushi_20_percent/test/steak/3873655.jpg'),\n",
       "  'class_name': 'steak',\n",
       "  'pred_prob': 0.9512,\n",
       "  'pred_class': 'steak',\n",
       "  'time_for_pred': 0.1389,\n",
       "  'correct': True},\n",
       " {'image_path': PosixPath('Datasets/pizza_steak_sushi_20_percent/test/steak/39461.jpg'),\n",
       "  'class_name': 'steak',\n",
       "  'pred_prob': 0.565,\n",
       "  'pred_class': 'steak',\n",
       "  'time_for_pred': 0.1539,\n",
       "  'correct': True},\n",
       " {'image_path': PosixPath('Datasets/pizza_steak_sushi_20_percent/test/steak/399377.jpg'),\n",
       "  'class_name': 'steak',\n",
       "  'pred_prob': 0.7854,\n",
       "  'pred_class': 'steak',\n",
       "  'time_for_pred': 0.1135,\n",
       "  'correct': True},\n",
       " {'image_path': PosixPath('Datasets/pizza_steak_sushi_20_percent/test/steak/40947.jpg'),\n",
       "  'class_name': 'steak',\n",
       "  'pred_prob': 0.8446,\n",
       "  'pred_class': 'steak',\n",
       "  'time_for_pred': 0.1186,\n",
       "  'correct': True},\n",
       " {'image_path': PosixPath('Datasets/pizza_steak_sushi_20_percent/test/steak/413497.jpg'),\n",
       "  'class_name': 'steak',\n",
       "  'pred_prob': 0.9462,\n",
       "  'pred_class': 'steak',\n",
       "  'time_for_pred': 0.102,\n",
       "  'correct': True},\n",
       " {'image_path': PosixPath('Datasets/pizza_steak_sushi_20_percent/test/steak/476333.jpg'),\n",
       "  'class_name': 'steak',\n",
       "  'pred_prob': 0.9749,\n",
       "  'pred_class': 'steak',\n",
       "  'time_for_pred': 0.1015,\n",
       "  'correct': True},\n",
       " {'image_path': PosixPath('Datasets/pizza_steak_sushi_20_percent/test/steak/48208.jpg'),\n",
       "  'class_name': 'steak',\n",
       "  'pred_prob': 0.4694,\n",
       "  'pred_class': 'steak',\n",
       "  'time_for_pred': 0.1076,\n",
       "  'correct': True},\n",
       " {'image_path': PosixPath('Datasets/pizza_steak_sushi_20_percent/test/steak/550687.jpg'),\n",
       "  'class_name': 'steak',\n",
       "  'pred_prob': 0.9288,\n",
       "  'pred_class': 'steak',\n",
       "  'time_for_pred': 0.1094,\n",
       "  'correct': True},\n",
       " {'image_path': PosixPath('Datasets/pizza_steak_sushi_20_percent/test/steak/552171.jpg'),\n",
       "  'class_name': 'steak',\n",
       "  'pred_prob': 0.9738,\n",
       "  'pred_class': 'steak',\n",
       "  'time_for_pred': 0.1116,\n",
       "  'correct': True},\n",
       " {'image_path': PosixPath('Datasets/pizza_steak_sushi_20_percent/test/steak/595836.jpg'),\n",
       "  'class_name': 'steak',\n",
       "  'pred_prob': 0.8153,\n",
       "  'pred_class': 'steak',\n",
       "  'time_for_pred': 0.1082,\n",
       "  'correct': True},\n",
       " {'image_path': PosixPath('Datasets/pizza_steak_sushi_20_percent/test/steak/66858.jpg'),\n",
       "  'class_name': 'steak',\n",
       "  'pred_prob': 0.7753,\n",
       "  'pred_class': 'steak',\n",
       "  'time_for_pred': 0.1681,\n",
       "  'correct': True},\n",
       " {'image_path': PosixPath('Datasets/pizza_steak_sushi_20_percent/test/steak/670345.jpg'),\n",
       "  'class_name': 'steak',\n",
       "  'pred_prob': 0.7361,\n",
       "  'pred_class': 'steak',\n",
       "  'time_for_pred': 0.1643,\n",
       "  'correct': True},\n",
       " {'image_path': PosixPath('Datasets/pizza_steak_sushi_20_percent/test/steak/697562.jpg'),\n",
       "  'class_name': 'steak',\n",
       "  'pred_prob': 0.8744,\n",
       "  'pred_class': 'steak',\n",
       "  'time_for_pred': 0.1129,\n",
       "  'correct': True},\n",
       " {'image_path': PosixPath('Datasets/pizza_steak_sushi_20_percent/test/steak/730464.jpg'),\n",
       "  'class_name': 'steak',\n",
       "  'pred_prob': 0.9365,\n",
       "  'pred_class': 'steak',\n",
       "  'time_for_pred': 0.118,\n",
       "  'correct': True},\n",
       " {'image_path': PosixPath('Datasets/pizza_steak_sushi_20_percent/test/steak/746921.jpg'),\n",
       "  'class_name': 'steak',\n",
       "  'pred_prob': 0.9756,\n",
       "  'pred_class': 'steak',\n",
       "  'time_for_pred': 0.1106,\n",
       "  'correct': True},\n",
       " {'image_path': PosixPath('Datasets/pizza_steak_sushi_20_percent/test/steak/831681.jpg'),\n",
       "  'class_name': 'steak',\n",
       "  'pred_prob': 0.9702,\n",
       "  'pred_class': 'steak',\n",
       "  'time_for_pred': 0.1058,\n",
       "  'correct': True},\n",
       " {'image_path': PosixPath('Datasets/pizza_steak_sushi_20_percent/test/steak/864661.jpg'),\n",
       "  'class_name': 'steak',\n",
       "  'pred_prob': 0.4174,\n",
       "  'pred_class': 'steak',\n",
       "  'time_for_pred': 0.1166,\n",
       "  'correct': True},\n",
       " {'image_path': PosixPath('Datasets/pizza_steak_sushi_20_percent/test/steak/86782.jpg'),\n",
       "  'class_name': 'steak',\n",
       "  'pred_prob': 0.8633,\n",
       "  'pred_class': 'steak',\n",
       "  'time_for_pred': 0.1005,\n",
       "  'correct': True},\n",
       " {'image_path': PosixPath('Datasets/pizza_steak_sushi_20_percent/test/sushi/2819945.jpg'),\n",
       "  'class_name': 'sushi',\n",
       "  'pred_prob': 0.9239,\n",
       "  'pred_class': 'sushi',\n",
       "  'time_for_pred': 0.0874,\n",
       "  'correct': True},\n",
       " {'image_path': PosixPath('Datasets/pizza_steak_sushi_20_percent/test/sushi/1063878.jpg'),\n",
       "  'class_name': 'sushi',\n",
       "  'pred_prob': 0.9911,\n",
       "  'pred_class': 'sushi',\n",
       "  'time_for_pred': 0.085,\n",
       "  'correct': True},\n",
       " {'image_path': PosixPath('Datasets/pizza_steak_sushi_20_percent/test/sushi/1203702.jpg'),\n",
       "  'class_name': 'sushi',\n",
       "  'pred_prob': 0.9193,\n",
       "  'pred_class': 'sushi',\n",
       "  'time_for_pred': 0.0842,\n",
       "  'correct': True},\n",
       " {'image_path': PosixPath('Datasets/pizza_steak_sushi_20_percent/test/sushi/124279.jpg'),\n",
       "  'class_name': 'sushi',\n",
       "  'pred_prob': 0.4951,\n",
       "  'pred_class': 'sushi',\n",
       "  'time_for_pred': 0.0899,\n",
       "  'correct': True},\n",
       " {'image_path': PosixPath('Datasets/pizza_steak_sushi_20_percent/test/sushi/1245545.jpg'),\n",
       "  'class_name': 'sushi',\n",
       "  'pred_prob': 0.9585,\n",
       "  'pred_class': 'sushi',\n",
       "  'time_for_pred': 0.0885,\n",
       "  'correct': True},\n",
       " {'image_path': PosixPath('Datasets/pizza_steak_sushi_20_percent/test/sushi/128616.jpg'),\n",
       "  'class_name': 'sushi',\n",
       "  'pred_prob': 0.9665,\n",
       "  'pred_class': 'sushi',\n",
       "  'time_for_pred': 0.0886,\n",
       "  'correct': True},\n",
       " {'image_path': PosixPath('Datasets/pizza_steak_sushi_20_percent/test/sushi/1346344.jpg'),\n",
       "  'class_name': 'sushi',\n",
       "  'pred_prob': 0.9773,\n",
       "  'pred_class': 'sushi',\n",
       "  'time_for_pred': 0.0892,\n",
       "  'correct': True},\n",
       " {'image_path': PosixPath('Datasets/pizza_steak_sushi_20_percent/test/sushi/1383396.jpg'),\n",
       "  'class_name': 'sushi',\n",
       "  'pred_prob': 0.9009,\n",
       "  'pred_class': 'sushi',\n",
       "  'time_for_pred': 0.1085,\n",
       "  'correct': True},\n",
       " {'image_path': PosixPath('Datasets/pizza_steak_sushi_20_percent/test/sushi/1404154.jpg'),\n",
       "  'class_name': 'sushi',\n",
       "  'pred_prob': 0.5506,\n",
       "  'pred_class': 'steak',\n",
       "  'time_for_pred': 0.1576,\n",
       "  'correct': False},\n",
       " {'image_path': PosixPath('Datasets/pizza_steak_sushi_20_percent/test/sushi/1600999.jpg'),\n",
       "  'class_name': 'sushi',\n",
       "  'pred_prob': 0.9722,\n",
       "  'pred_class': 'sushi',\n",
       "  'time_for_pred': 0.7234,\n",
       "  'correct': True},\n",
       " {'image_path': PosixPath('Datasets/pizza_steak_sushi_20_percent/test/sushi/167716.jpg'),\n",
       "  'class_name': 'sushi',\n",
       "  'pred_prob': 0.4149,\n",
       "  'pred_class': 'sushi',\n",
       "  'time_for_pred': 0.6097,\n",
       "  'correct': True},\n",
       " {'image_path': PosixPath('Datasets/pizza_steak_sushi_20_percent/test/sushi/1683426.jpg'),\n",
       "  'class_name': 'sushi',\n",
       "  'pred_prob': 0.5691,\n",
       "  'pred_class': 'sushi',\n",
       "  'time_for_pred': 0.6159,\n",
       "  'correct': True},\n",
       " {'image_path': PosixPath('Datasets/pizza_steak_sushi_20_percent/test/sushi/1844723.jpg'),\n",
       "  'class_name': 'sushi',\n",
       "  'pred_prob': 0.9523,\n",
       "  'pred_class': 'sushi',\n",
       "  'time_for_pred': 0.6636,\n",
       "  'correct': True},\n",
       " {'image_path': PosixPath('Datasets/pizza_steak_sushi_20_percent/test/sushi/1944743.jpg'),\n",
       "  'class_name': 'sushi',\n",
       "  'pred_prob': 0.9327,\n",
       "  'pred_class': 'sushi',\n",
       "  'time_for_pred': 0.5489,\n",
       "  'correct': True},\n",
       " {'image_path': PosixPath('Datasets/pizza_steak_sushi_20_percent/test/sushi/1994748.jpg'),\n",
       "  'class_name': 'sushi',\n",
       "  'pred_prob': 0.6943,\n",
       "  'pred_class': 'sushi',\n",
       "  'time_for_pred': 0.5168,\n",
       "  'correct': True},\n",
       " {'image_path': PosixPath('Datasets/pizza_steak_sushi_20_percent/test/sushi/2012780.jpg'),\n",
       "  'class_name': 'sushi',\n",
       "  'pred_prob': 0.9159,\n",
       "  'pred_class': 'sushi',\n",
       "  'time_for_pred': 0.627,\n",
       "  'correct': True},\n",
       " {'image_path': PosixPath('Datasets/pizza_steak_sushi_20_percent/test/sushi/2274102.jpg'),\n",
       "  'class_name': 'sushi',\n",
       "  'pred_prob': 0.6746,\n",
       "  'pred_class': 'sushi',\n",
       "  'time_for_pred': 0.7012,\n",
       "  'correct': True},\n",
       " {'image_path': PosixPath('Datasets/pizza_steak_sushi_20_percent/test/sushi/2352914.jpg'),\n",
       "  'class_name': 'sushi',\n",
       "  'pred_prob': 0.84,\n",
       "  'pred_class': 'sushi',\n",
       "  'time_for_pred': 0.7728,\n",
       "  'correct': True},\n",
       " {'image_path': PosixPath('Datasets/pizza_steak_sushi_20_percent/test/sushi/2378406.jpg'),\n",
       "  'class_name': 'sushi',\n",
       "  'pred_prob': 0.6666,\n",
       "  'pred_class': 'sushi',\n",
       "  'time_for_pred': 0.7373,\n",
       "  'correct': True},\n",
       " {'image_path': PosixPath('Datasets/pizza_steak_sushi_20_percent/test/sushi/2394442.jpg'),\n",
       "  'class_name': 'sushi',\n",
       "  'pred_prob': 0.8818,\n",
       "  'pred_class': 'sushi',\n",
       "  'time_for_pred': 1.2411,\n",
       "  'correct': True},\n",
       " {'image_path': PosixPath('Datasets/pizza_steak_sushi_20_percent/test/sushi/2416569.jpg'),\n",
       "  'class_name': 'sushi',\n",
       "  'pred_prob': 0.9824,\n",
       "  'pred_class': 'sushi',\n",
       "  'time_for_pred': 0.9829,\n",
       "  'correct': True},\n",
       " {'image_path': PosixPath('Datasets/pizza_steak_sushi_20_percent/test/sushi/2743100.jpg'),\n",
       "  'class_name': 'sushi',\n",
       "  'pred_prob': 0.9627,\n",
       "  'pred_class': 'sushi',\n",
       "  'time_for_pred': 1.0501,\n",
       "  'correct': True},\n",
       " {'image_path': PosixPath('Datasets/pizza_steak_sushi_20_percent/test/sushi/2903125.jpg'),\n",
       "  'class_name': 'sushi',\n",
       "  'pred_prob': 0.7698,\n",
       "  'pred_class': 'sushi',\n",
       "  'time_for_pred': 1.1068,\n",
       "  'correct': True},\n",
       " {'image_path': PosixPath('Datasets/pizza_steak_sushi_20_percent/test/sushi/2903621.jpg'),\n",
       "  'class_name': 'sushi',\n",
       "  'pred_prob': 0.7013,\n",
       "  'pred_class': 'sushi',\n",
       "  'time_for_pred': 0.3096,\n",
       "  'correct': True},\n",
       " {'image_path': PosixPath('Datasets/pizza_steak_sushi_20_percent/test/sushi/2948087.jpg'),\n",
       "  'class_name': 'sushi',\n",
       "  'pred_prob': 0.8752,\n",
       "  'pred_class': 'sushi',\n",
       "  'time_for_pred': 0.118,\n",
       "  'correct': True},\n",
       " {'image_path': PosixPath('Datasets/pizza_steak_sushi_20_percent/test/sushi/301603.jpg'),\n",
       "  'class_name': 'sushi',\n",
       "  'pred_prob': 0.9141,\n",
       "  'pred_class': 'sushi',\n",
       "  'time_for_pred': 0.1422,\n",
       "  'correct': True},\n",
       " {'image_path': PosixPath('Datasets/pizza_steak_sushi_20_percent/test/sushi/3177743.jpg'),\n",
       "  'class_name': 'sushi',\n",
       "  'pred_prob': 0.874,\n",
       "  'pred_class': 'sushi',\n",
       "  'time_for_pred': 0.1148,\n",
       "  'correct': True},\n",
       " {'image_path': PosixPath('Datasets/pizza_steak_sushi_20_percent/test/sushi/3227791.jpg'),\n",
       "  'class_name': 'sushi',\n",
       "  'pred_prob': 0.9112,\n",
       "  'pred_class': 'sushi',\n",
       "  'time_for_pred': 0.1245,\n",
       "  'correct': True},\n",
       " {'image_path': PosixPath('Datasets/pizza_steak_sushi_20_percent/test/sushi/3365273.jpg'),\n",
       "  'class_name': 'sushi',\n",
       "  'pred_prob': 0.919,\n",
       "  'pred_class': 'sushi',\n",
       "  'time_for_pred': 0.1224,\n",
       "  'correct': True},\n",
       " {'image_path': PosixPath('Datasets/pizza_steak_sushi_20_percent/test/sushi/3401466.jpg'),\n",
       "  'class_name': 'sushi',\n",
       "  'pred_prob': 0.8513,\n",
       "  'pred_class': 'sushi',\n",
       "  'time_for_pred': 0.1068,\n",
       "  'correct': True},\n",
       " {'image_path': PosixPath('Datasets/pizza_steak_sushi_20_percent/test/sushi/3494950.jpg'),\n",
       "  'class_name': 'sushi',\n",
       "  'pred_prob': 0.782,\n",
       "  'pred_class': 'sushi',\n",
       "  'time_for_pred': 0.1013,\n",
       "  'correct': True},\n",
       " {'image_path': PosixPath('Datasets/pizza_steak_sushi_20_percent/test/sushi/3834718.jpg'),\n",
       "  'class_name': 'sushi',\n",
       "  'pred_prob': 0.6649,\n",
       "  'pred_class': 'sushi',\n",
       "  'time_for_pred': 0.1191,\n",
       "  'correct': True},\n",
       " {'image_path': PosixPath('Datasets/pizza_steak_sushi_20_percent/test/sushi/3886015.jpg'),\n",
       "  'class_name': 'sushi',\n",
       "  'pred_prob': 0.9751,\n",
       "  'pred_class': 'sushi',\n",
       "  'time_for_pred': 0.0992,\n",
       "  'correct': True},\n",
       " {'image_path': PosixPath('Datasets/pizza_steak_sushi_20_percent/test/sushi/389730.jpg'),\n",
       "  'class_name': 'sushi',\n",
       "  'pred_prob': 0.6236,\n",
       "  'pred_class': 'sushi',\n",
       "  'time_for_pred': 0.099,\n",
       "  'correct': True},\n",
       " {'image_path': PosixPath('Datasets/pizza_steak_sushi_20_percent/test/sushi/46797.jpg'),\n",
       "  'class_name': 'sushi',\n",
       "  'pred_prob': 0.9476,\n",
       "  'pred_class': 'sushi',\n",
       "  'time_for_pred': 0.1077,\n",
       "  'correct': True},\n",
       " {'image_path': PosixPath('Datasets/pizza_steak_sushi_20_percent/test/sushi/472912.jpg'),\n",
       "  'class_name': 'sushi',\n",
       "  'pred_prob': 0.6853,\n",
       "  'pred_class': 'sushi',\n",
       "  'time_for_pred': 0.1129,\n",
       "  'correct': True},\n",
       " {'image_path': PosixPath('Datasets/pizza_steak_sushi_20_percent/test/sushi/511818.jpg'),\n",
       "  'class_name': 'sushi',\n",
       "  'pred_prob': 0.7327,\n",
       "  'pred_class': 'sushi',\n",
       "  'time_for_pred': 0.1253,\n",
       "  'correct': True},\n",
       " {'image_path': PosixPath('Datasets/pizza_steak_sushi_20_percent/test/sushi/57230.jpg'),\n",
       "  'class_name': 'sushi',\n",
       "  'pred_prob': 0.5324,\n",
       "  'pred_class': 'steak',\n",
       "  'time_for_pred': 0.106,\n",
       "  'correct': False},\n",
       " {'image_path': PosixPath('Datasets/pizza_steak_sushi_20_percent/test/sushi/592799.jpg'),\n",
       "  'class_name': 'sushi',\n",
       "  'pred_prob': 0.9438,\n",
       "  'pred_class': 'sushi',\n",
       "  'time_for_pred': 0.1036,\n",
       "  'correct': True},\n",
       " {'image_path': PosixPath('Datasets/pizza_steak_sushi_20_percent/test/sushi/593071.jpg'),\n",
       "  'class_name': 'sushi',\n",
       "  'pred_prob': 0.8933,\n",
       "  'pred_class': 'sushi',\n",
       "  'time_for_pred': 0.1142,\n",
       "  'correct': True},\n",
       " {'image_path': PosixPath('Datasets/pizza_steak_sushi_20_percent/test/sushi/705150.jpg'),\n",
       "  'class_name': 'sushi',\n",
       "  'pred_prob': 0.4548,\n",
       "  'pred_class': 'sushi',\n",
       "  'time_for_pred': 0.1176,\n",
       "  'correct': True},\n",
       " {'image_path': PosixPath('Datasets/pizza_steak_sushi_20_percent/test/sushi/715227.jpg'),\n",
       "  'class_name': 'sushi',\n",
       "  'pred_prob': 0.7531,\n",
       "  'pred_class': 'sushi',\n",
       "  'time_for_pred': 0.1141,\n",
       "  'correct': True},\n",
       " {'image_path': PosixPath('Datasets/pizza_steak_sushi_20_percent/test/sushi/720302.jpg'),\n",
       "  'class_name': 'sushi',\n",
       "  'pred_prob': 0.4332,\n",
       "  'pred_class': 'pizza',\n",
       "  'time_for_pred': 0.1009,\n",
       "  'correct': False},\n",
       " {'image_path': PosixPath('Datasets/pizza_steak_sushi_20_percent/test/sushi/780283.jpg'),\n",
       "  'class_name': 'sushi',\n",
       "  'pred_prob': 0.881,\n",
       "  'pred_class': 'sushi',\n",
       "  'time_for_pred': 0.0933,\n",
       "  'correct': True},\n",
       " {'image_path': PosixPath('Datasets/pizza_steak_sushi_20_percent/test/sushi/804460.jpg'),\n",
       "  'class_name': 'sushi',\n",
       "  'pred_prob': 0.443,\n",
       "  'pred_class': 'sushi',\n",
       "  'time_for_pred': 0.1291,\n",
       "  'correct': True},\n",
       " {'image_path': PosixPath('Datasets/pizza_steak_sushi_20_percent/test/sushi/911808.jpg'),\n",
       "  'class_name': 'sushi',\n",
       "  'pred_prob': 0.8392,\n",
       "  'pred_class': 'sushi',\n",
       "  'time_for_pred': 0.0854,\n",
       "  'correct': True}]"
      ]
     },
     "execution_count": 27,
     "metadata": {},
     "output_type": "execute_result"
    }
   ],
   "source": [
    "effnetb2_test_pred_dicts"
   ]
  },
  {
   "cell_type": "code",
   "execution_count": null,
   "id": "8589d140",
   "metadata": {},
   "outputs": [],
   "source": []
  },
  {
   "cell_type": "code",
   "execution_count": 28,
   "id": "4ebf3d62",
   "metadata": {},
   "outputs": [
    {
     "data": {
      "text/html": [
       "<div>\n",
       "<style scoped>\n",
       "    .dataframe tbody tr th:only-of-type {\n",
       "        vertical-align: middle;\n",
       "    }\n",
       "\n",
       "    .dataframe tbody tr th {\n",
       "        vertical-align: top;\n",
       "    }\n",
       "\n",
       "    .dataframe thead th {\n",
       "        text-align: right;\n",
       "    }\n",
       "</style>\n",
       "<table border=\"1\" class=\"dataframe\">\n",
       "  <thead>\n",
       "    <tr style=\"text-align: right;\">\n",
       "      <th></th>\n",
       "      <th>image_path</th>\n",
       "      <th>class_name</th>\n",
       "      <th>pred_prob</th>\n",
       "      <th>pred_class</th>\n",
       "      <th>time_for_pred</th>\n",
       "      <th>correct</th>\n",
       "    </tr>\n",
       "  </thead>\n",
       "  <tbody>\n",
       "    <tr>\n",
       "      <th>0</th>\n",
       "      <td>Datasets/pizza_steak_sushi_20_percent/test/piz...</td>\n",
       "      <td>pizza</td>\n",
       "      <td>0.9572</td>\n",
       "      <td>pizza</td>\n",
       "      <td>0.1789</td>\n",
       "      <td>True</td>\n",
       "    </tr>\n",
       "    <tr>\n",
       "      <th>1</th>\n",
       "      <td>Datasets/pizza_steak_sushi_20_percent/test/piz...</td>\n",
       "      <td>pizza</td>\n",
       "      <td>0.9989</td>\n",
       "      <td>pizza</td>\n",
       "      <td>0.0986</td>\n",
       "      <td>True</td>\n",
       "    </tr>\n",
       "    <tr>\n",
       "      <th>2</th>\n",
       "      <td>Datasets/pizza_steak_sushi_20_percent/test/piz...</td>\n",
       "      <td>pizza</td>\n",
       "      <td>0.5760</td>\n",
       "      <td>pizza</td>\n",
       "      <td>0.1140</td>\n",
       "      <td>True</td>\n",
       "    </tr>\n",
       "    <tr>\n",
       "      <th>3</th>\n",
       "      <td>Datasets/pizza_steak_sushi_20_percent/test/piz...</td>\n",
       "      <td>pizza</td>\n",
       "      <td>0.9982</td>\n",
       "      <td>pizza</td>\n",
       "      <td>0.1013</td>\n",
       "      <td>True</td>\n",
       "    </tr>\n",
       "    <tr>\n",
       "      <th>4</th>\n",
       "      <td>Datasets/pizza_steak_sushi_20_percent/test/piz...</td>\n",
       "      <td>pizza</td>\n",
       "      <td>0.7338</td>\n",
       "      <td>pizza</td>\n",
       "      <td>0.1437</td>\n",
       "      <td>True</td>\n",
       "    </tr>\n",
       "  </tbody>\n",
       "</table>\n",
       "</div>"
      ],
      "text/plain": [
       "                                          image_path class_name  pred_prob  \\\n",
       "0  Datasets/pizza_steak_sushi_20_percent/test/piz...      pizza     0.9572   \n",
       "1  Datasets/pizza_steak_sushi_20_percent/test/piz...      pizza     0.9989   \n",
       "2  Datasets/pizza_steak_sushi_20_percent/test/piz...      pizza     0.5760   \n",
       "3  Datasets/pizza_steak_sushi_20_percent/test/piz...      pizza     0.9982   \n",
       "4  Datasets/pizza_steak_sushi_20_percent/test/piz...      pizza     0.7338   \n",
       "\n",
       "  pred_class  time_for_pred  correct  \n",
       "0      pizza         0.1789     True  \n",
       "1      pizza         0.0986     True  \n",
       "2      pizza         0.1140     True  \n",
       "3      pizza         0.1013     True  \n",
       "4      pizza         0.1437     True  "
      ]
     },
     "execution_count": 28,
     "metadata": {},
     "output_type": "execute_result"
    }
   ],
   "source": [
    "# Turn the effnetb2_test_pred_dicts into a DataFrame\n",
    "import pandas as pd\n",
    "effnetb2_test_pred_df = pd.DataFrame(effnetb2_test_pred_dicts)\n",
    "effnetb2_test_pred_df.head()"
   ]
  },
  {
   "cell_type": "code",
   "execution_count": null,
   "id": "ac156ff5",
   "metadata": {},
   "outputs": [],
   "source": []
  },
  {
   "cell_type": "code",
   "execution_count": 30,
   "id": "8ff4dba9",
   "metadata": {},
   "outputs": [
    {
     "data": {
      "text/plain": [
       "True     143\n",
       "False      7\n",
       "Name: correct, dtype: int64"
      ]
     },
     "execution_count": 30,
     "metadata": {},
     "output_type": "execute_result"
    }
   ],
   "source": [
    "# Check number of correct predictions\n",
    "effnetb2_test_pred_df.correct.value_counts()"
   ]
  },
  {
   "cell_type": "code",
   "execution_count": 31,
   "id": "742b86f9",
   "metadata": {},
   "outputs": [
    {
     "name": "stdout",
     "output_type": "stream",
     "text": [
      "EffNetB2 average time per prediction: 0.3274\n"
     ]
    }
   ],
   "source": [
    "# Find the average time per predictions\n",
    "effnetb2_average_time_per_pred = round(effnetb2_test_pred_df.time_for_pred.mean(), 4)\n",
    "print(f\"EffNetB2 average time per prediction: {effnetb2_average_time_per_pred}\")"
   ]
  },
  {
   "cell_type": "code",
   "execution_count": null,
   "id": "6760dc11",
   "metadata": {},
   "outputs": [],
   "source": []
  },
  {
   "cell_type": "code",
   "execution_count": 37,
   "id": "88680919",
   "metadata": {},
   "outputs": [
    {
     "data": {
      "text/plain": [
       "{'test_loss': 0.23187363147735596,\n",
       " 'test_acc': 0.9517543859649122,\n",
       " 'number_of_parameters': 7705221,\n",
       " 'model_size (MB)': 29.824288368225098,\n",
       " 'time_per_pred_cpu': 0.3274}"
      ]
     },
     "execution_count": 37,
     "metadata": {},
     "output_type": "execute_result"
    }
   ],
   "source": [
    "# Add average time per prediction to EffNetB2 stats dictionary\n",
    "effnetb2_stats[\"time_per_pred_cpu\"] = effnetb2_average_time_per_pred\n",
    "effnetb2_stats"
   ]
  },
  {
   "cell_type": "code",
   "execution_count": null,
   "id": "f98525ea",
   "metadata": {},
   "outputs": [],
   "source": []
  },
  {
   "cell_type": "code",
   "execution_count": null,
   "id": "63d7afe1",
   "metadata": {},
   "outputs": [],
   "source": []
  },
  {
   "cell_type": "markdown",
   "id": "ac78bc5e",
   "metadata": {},
   "source": [
    "### 5.3 Making and timing predictions with ViT."
   ]
  },
  {
   "cell_type": "code",
   "execution_count": 32,
   "id": "88b942c6",
   "metadata": {},
   "outputs": [
    {
     "data": {
      "application/vnd.jupyter.widget-view+json": {
       "model_id": "6b6c7124f82e4333a4957241ad457594",
       "version_major": 2,
       "version_minor": 0
      },
      "text/plain": [
       "  0%|          | 0/150 [00:00<?, ?it/s]"
      ]
     },
     "metadata": {},
     "output_type": "display_data"
    }
   ],
   "source": [
    "# Make predictions across test dataset with ViT\n",
    "vit_test_pred_dicts = pred_and_store(paths = test_data_paths,\n",
    "                                          model = vit_model,\n",
    "                                          transform = vit_transforms,\n",
    "                                          class_names = class_names,\n",
    "                                          device = \"cpu\")  # hardcode predictions to happen on CPU."
   ]
  },
  {
   "cell_type": "code",
   "execution_count": null,
   "id": "92ff74b5",
   "metadata": {},
   "outputs": [],
   "source": []
  },
  {
   "cell_type": "code",
   "execution_count": 33,
   "id": "aa9b9ff6",
   "metadata": {},
   "outputs": [
    {
     "data": {
      "text/html": [
       "<div>\n",
       "<style scoped>\n",
       "    .dataframe tbody tr th:only-of-type {\n",
       "        vertical-align: middle;\n",
       "    }\n",
       "\n",
       "    .dataframe tbody tr th {\n",
       "        vertical-align: top;\n",
       "    }\n",
       "\n",
       "    .dataframe thead th {\n",
       "        text-align: right;\n",
       "    }\n",
       "</style>\n",
       "<table border=\"1\" class=\"dataframe\">\n",
       "  <thead>\n",
       "    <tr style=\"text-align: right;\">\n",
       "      <th></th>\n",
       "      <th>image_path</th>\n",
       "      <th>class_name</th>\n",
       "      <th>pred_prob</th>\n",
       "      <th>pred_class</th>\n",
       "      <th>time_for_pred</th>\n",
       "      <th>correct</th>\n",
       "    </tr>\n",
       "  </thead>\n",
       "  <tbody>\n",
       "    <tr>\n",
       "      <th>0</th>\n",
       "      <td>Datasets/pizza_steak_sushi_20_percent/test/piz...</td>\n",
       "      <td>pizza</td>\n",
       "      <td>0.9998</td>\n",
       "      <td>pizza</td>\n",
       "      <td>0.6395</td>\n",
       "      <td>True</td>\n",
       "    </tr>\n",
       "    <tr>\n",
       "      <th>1</th>\n",
       "      <td>Datasets/pizza_steak_sushi_20_percent/test/piz...</td>\n",
       "      <td>pizza</td>\n",
       "      <td>0.9998</td>\n",
       "      <td>pizza</td>\n",
       "      <td>0.6888</td>\n",
       "      <td>True</td>\n",
       "    </tr>\n",
       "    <tr>\n",
       "      <th>2</th>\n",
       "      <td>Datasets/pizza_steak_sushi_20_percent/test/piz...</td>\n",
       "      <td>pizza</td>\n",
       "      <td>0.9994</td>\n",
       "      <td>pizza</td>\n",
       "      <td>0.6683</td>\n",
       "      <td>True</td>\n",
       "    </tr>\n",
       "    <tr>\n",
       "      <th>3</th>\n",
       "      <td>Datasets/pizza_steak_sushi_20_percent/test/piz...</td>\n",
       "      <td>pizza</td>\n",
       "      <td>0.9998</td>\n",
       "      <td>pizza</td>\n",
       "      <td>0.5113</td>\n",
       "      <td>True</td>\n",
       "    </tr>\n",
       "    <tr>\n",
       "      <th>4</th>\n",
       "      <td>Datasets/pizza_steak_sushi_20_percent/test/piz...</td>\n",
       "      <td>pizza</td>\n",
       "      <td>0.9968</td>\n",
       "      <td>pizza</td>\n",
       "      <td>0.6306</td>\n",
       "      <td>True</td>\n",
       "    </tr>\n",
       "  </tbody>\n",
       "</table>\n",
       "</div>"
      ],
      "text/plain": [
       "                                          image_path class_name  pred_prob  \\\n",
       "0  Datasets/pizza_steak_sushi_20_percent/test/piz...      pizza     0.9998   \n",
       "1  Datasets/pizza_steak_sushi_20_percent/test/piz...      pizza     0.9998   \n",
       "2  Datasets/pizza_steak_sushi_20_percent/test/piz...      pizza     0.9994   \n",
       "3  Datasets/pizza_steak_sushi_20_percent/test/piz...      pizza     0.9998   \n",
       "4  Datasets/pizza_steak_sushi_20_percent/test/piz...      pizza     0.9968   \n",
       "\n",
       "  pred_class  time_for_pred  correct  \n",
       "0      pizza         0.6395     True  \n",
       "1      pizza         0.6888     True  \n",
       "2      pizza         0.6683     True  \n",
       "3      pizza         0.5113     True  \n",
       "4      pizza         0.6306     True  "
      ]
     },
     "execution_count": 33,
     "metadata": {},
     "output_type": "execute_result"
    }
   ],
   "source": [
    "# Turn the vit_test_pred_dicts into a DataFrame\n",
    "import pandas as pd\n",
    "vit_test_pred_df = pd.DataFrame(vit_test_pred_dicts)\n",
    "vit_test_pred_df.head()"
   ]
  },
  {
   "cell_type": "code",
   "execution_count": null,
   "id": "87a9e985",
   "metadata": {},
   "outputs": [],
   "source": []
  },
  {
   "cell_type": "code",
   "execution_count": 34,
   "id": "e324b305",
   "metadata": {},
   "outputs": [
    {
     "data": {
      "text/plain": [
       "True     146\n",
       "False      4\n",
       "Name: correct, dtype: int64"
      ]
     },
     "execution_count": 34,
     "metadata": {},
     "output_type": "execute_result"
    }
   ],
   "source": [
    "# Check number of correct predictions\n",
    "vit_test_pred_df.correct.value_counts()"
   ]
  },
  {
   "cell_type": "code",
   "execution_count": null,
   "id": "cca049ed",
   "metadata": {},
   "outputs": [],
   "source": []
  },
  {
   "cell_type": "code",
   "execution_count": 35,
   "id": "2af0e537",
   "metadata": {},
   "outputs": [
    {
     "name": "stdout",
     "output_type": "stream",
     "text": [
      "ViT average time per prediction: 0.6618\n"
     ]
    }
   ],
   "source": [
    "# Find the average time per predictions\n",
    "vit_average_time_per_pred = round(vit_test_pred_df.time_for_pred.mean(), 4)\n",
    "print(f\"ViT average time per prediction: {vit_average_time_per_pred}\")"
   ]
  },
  {
   "cell_type": "code",
   "execution_count": null,
   "id": "d4730454",
   "metadata": {},
   "outputs": [],
   "source": []
  },
  {
   "cell_type": "code",
   "execution_count": 36,
   "id": "f13e9ae5",
   "metadata": {},
   "outputs": [
    {
     "data": {
      "text/plain": [
       "{'test_loss': 0.05216844586079548,\n",
       " 'test_acc': 0.9736842105263158,\n",
       " 'number_of_parameters': 85800963,\n",
       " 'model_size (MB)': 327.36128330230713,\n",
       " 'time_per_pred_cpu': 0.6618}"
      ]
     },
     "execution_count": 36,
     "metadata": {},
     "output_type": "execute_result"
    }
   ],
   "source": [
    "# Add average time per prediction to ViT stats dictionary\n",
    "vit_stats[\"time_per_pred_cpu\"] = vit_average_time_per_pred\n",
    "vit_stats"
   ]
  },
  {
   "cell_type": "code",
   "execution_count": null,
   "id": "f930d088",
   "metadata": {},
   "outputs": [],
   "source": []
  },
  {
   "cell_type": "code",
   "execution_count": null,
   "id": "10e63882",
   "metadata": {},
   "outputs": [],
   "source": []
  },
  {
   "cell_type": "code",
   "execution_count": null,
   "id": "7a971a59",
   "metadata": {},
   "outputs": [],
   "source": []
  },
  {
   "cell_type": "markdown",
   "id": "9677ed84",
   "metadata": {},
   "source": [
    "# 6.1 Comparing model results, predictions times and sizes"
   ]
  },
  {
   "cell_type": "code",
   "execution_count": 47,
   "id": "84518701",
   "metadata": {},
   "outputs": [
    {
     "data": {
      "text/html": [
       "<div>\n",
       "<style scoped>\n",
       "    .dataframe tbody tr th:only-of-type {\n",
       "        vertical-align: middle;\n",
       "    }\n",
       "\n",
       "    .dataframe tbody tr th {\n",
       "        vertical-align: top;\n",
       "    }\n",
       "\n",
       "    .dataframe thead th {\n",
       "        text-align: right;\n",
       "    }\n",
       "</style>\n",
       "<table border=\"1\" class=\"dataframe\">\n",
       "  <thead>\n",
       "    <tr style=\"text-align: right;\">\n",
       "      <th></th>\n",
       "      <th>test_loss</th>\n",
       "      <th>test_acc</th>\n",
       "      <th>number_of_parameters</th>\n",
       "      <th>model_size (MB)</th>\n",
       "      <th>time_per_pred_cpu</th>\n",
       "      <th>model</th>\n",
       "    </tr>\n",
       "  </thead>\n",
       "  <tbody>\n",
       "    <tr>\n",
       "      <th>0</th>\n",
       "      <td>0.231874</td>\n",
       "      <td>95.18</td>\n",
       "      <td>7705221</td>\n",
       "      <td>29.824288</td>\n",
       "      <td>0.3274</td>\n",
       "      <td>EffNetB2</td>\n",
       "    </tr>\n",
       "    <tr>\n",
       "      <th>1</th>\n",
       "      <td>0.052168</td>\n",
       "      <td>97.37</td>\n",
       "      <td>85800963</td>\n",
       "      <td>327.361283</td>\n",
       "      <td>0.6618</td>\n",
       "      <td>ViT</td>\n",
       "    </tr>\n",
       "  </tbody>\n",
       "</table>\n",
       "</div>"
      ],
      "text/plain": [
       "   test_loss  test_acc  number_of_parameters  model_size (MB)  \\\n",
       "0   0.231874     95.18               7705221        29.824288   \n",
       "1   0.052168     97.37              85800963       327.361283   \n",
       "\n",
       "   time_per_pred_cpu     model  \n",
       "0             0.3274  EffNetB2  \n",
       "1             0.6618       ViT  "
      ]
     },
     "execution_count": 47,
     "metadata": {},
     "output_type": "execute_result"
    }
   ],
   "source": [
    "# Turn stat dictionaries into DataFrame\n",
    "df = pd.DataFrame(data = [effnetb2_stats, vit_stats])\n",
    "\n",
    "# Add column for model name\n",
    "df[\"model\"] = [\"EffNetB2\", \"ViT\"]\n",
    "\n",
    "# Convert accuracy to percentages\n",
    "df[\"test_acc\"] = round(df[\"test_acc\"] * 100, 2)\n",
    "\n",
    "df"
   ]
  },
  {
   "cell_type": "code",
   "execution_count": null,
   "id": "18f9da6f",
   "metadata": {},
   "outputs": [],
   "source": []
  },
  {
   "cell_type": "markdown",
   "id": "665fb3d8",
   "metadata": {},
   "source": [
    "## Which model is better?\n",
    "* `test_loss` (lower is better) - ViT\n",
    "* `test_acc` (higher is better) - ViT\n",
    "* `number_of_parameters` (for our use case, lower is better) - EffNetB2\n",
    "* `model_size (MB)` - (for our use case of deploying to a mobile device, lower is better) - EffNetB2\n",
    "* `time_per_pred_cpu` (for our use case, lower is better) - EffNetB2"
   ]
  },
  {
   "cell_type": "code",
   "execution_count": 49,
   "id": "d70b3b0b",
   "metadata": {},
   "outputs": [
    {
     "data": {
      "text/html": [
       "<div>\n",
       "<style scoped>\n",
       "    .dataframe tbody tr th:only-of-type {\n",
       "        vertical-align: middle;\n",
       "    }\n",
       "\n",
       "    .dataframe tbody tr th {\n",
       "        vertical-align: top;\n",
       "    }\n",
       "\n",
       "    .dataframe thead th {\n",
       "        text-align: right;\n",
       "    }\n",
       "</style>\n",
       "<table border=\"1\" class=\"dataframe\">\n",
       "  <thead>\n",
       "    <tr style=\"text-align: right;\">\n",
       "      <th></th>\n",
       "      <th>test_loss</th>\n",
       "      <th>test_acc</th>\n",
       "      <th>number_of_parameters</th>\n",
       "      <th>model_size (MB)</th>\n",
       "      <th>time_per_pred_cpu</th>\n",
       "    </tr>\n",
       "  </thead>\n",
       "  <tbody>\n",
       "    <tr>\n",
       "      <th>ViT to EffNetB2 ratios</th>\n",
       "      <td>0.224987</td>\n",
       "      <td>1.023009</td>\n",
       "      <td>11.135432</td>\n",
       "      <td>10.976332</td>\n",
       "      <td>2.021381</td>\n",
       "    </tr>\n",
       "  </tbody>\n",
       "</table>\n",
       "</div>"
      ],
      "text/plain": [
       "                        test_loss  test_acc  number_of_parameters  \\\n",
       "ViT to EffNetB2 ratios   0.224987  1.023009             11.135432   \n",
       "\n",
       "                        model_size (MB)  time_per_pred_cpu  \n",
       "ViT to EffNetB2 ratios        10.976332           2.021381  "
      ]
     },
     "execution_count": 49,
     "metadata": {},
     "output_type": "execute_result"
    }
   ],
   "source": [
    "# Compare ViT to EffNetB2 across different characteristics\n",
    "pd.DataFrame(data = (df.set_index(\"model\").loc[\"ViT\"] / df.set_index(\"model\").loc[\"EffNetB2\"]),\n",
    "             columns = [\"ViT to EffNetB2 ratios\"]).T"
   ]
  },
  {
   "cell_type": "code",
   "execution_count": null,
   "id": "84a82356",
   "metadata": {},
   "outputs": [],
   "source": []
  },
  {
   "cell_type": "code",
   "execution_count": null,
   "id": "7b91f770",
   "metadata": {},
   "outputs": [],
   "source": []
  },
  {
   "cell_type": "markdown",
   "id": "17e1bae2",
   "metadata": {},
   "source": [
    "# 6.2 Visualizing the speed vs. performance tradeoff\n",
    "\n",
    "So we have compared our EffNetB2 and ViT feature extractor models, now let's visualize the comparison with a speed vs. performance plot."
   ]
  },
  {
   "cell_type": "code",
   "execution_count": 63,
   "id": "a662288a",
   "metadata": {},
   "outputs": [
    {
     "data": {
      "image/png": "[encoded data removed]",
      "text/plain": [
       "<Figure size 864x576 with 1 Axes>"
      ]
     },
     "metadata": {
      "needs_background": "light"
     },
     "output_type": "display_data"
    }
   ],
   "source": [
    "import matplotlib.pyplot as plt\n",
    "\n",
    "# 1. Create a plot from model comparison DataFrame\n",
    "fig, ax = plt.subplots(figsize = (12, 8))\n",
    "scatter = ax.scatter(data = df, \n",
    "                     x = \"time_per_pred_cpu\", y = \"test_acc\", \n",
    "                     c = [\"blue\", \"orange\"], s = \"model_size (MB)\")\n",
    "\n",
    "\n",
    "# 2. Add titles and labels to make our plot look good.\n",
    "ax.set_title(\"FoodVision Mini Inference Speed vs Performance\", fontsize = 18)\n",
    "ax.set_xlabel(\"Prediction time per image {seconds}\", fontsize = 14)\n",
    "ax.set_ylabel(\"Test accuracy (%)\", fontsize = 14)\n",
    "ax.tick_params(axis = \"both\", labelsize = 12)\n",
    "ax.grid(True)\n",
    "\n",
    "\n",
    "# 3. Annotate the samples on the scatter plot so we know what's going on.\n",
    "for index, row in df.iterrows():\n",
    "    ax.annotate(s = row[\"model\"],\n",
    "                xy = (row[\"time_per_pred_cpu\"] + 0.0006, row[\"test_acc\"] + 0.03),\n",
    "                size = 12)\n",
    "    \n",
    "\n",
    "# 4. Create a lagend based on the model size (model_size (MB)).\n",
    "handles, labels = scatter.legend_elements(prop = \"sizes\", alpha = 0.5)\n",
    "model_size_legend = ax.legend(handles, \n",
    "                              labels,\n",
    "                              loc = \"lower right\",\n",
    "                              title = \"Model Size (MB)\"\n",
    "                              )\n",
    "\n",
    "# Save the figure\n",
    "#plt.savefig(os.path.join(\"images\", \"17-vit-vs-effnetb2.png\"))"
   ]
  },
  {
   "cell_type": "code",
   "execution_count": null,
   "id": "a78ba3b4",
   "metadata": {},
   "outputs": [],
   "source": []
  },
  {
   "cell_type": "code",
   "execution_count": null,
   "id": "0d8cfc54",
   "metadata": {},
   "outputs": [],
   "source": []
  },
  {
   "cell_type": "code",
   "execution_count": null,
   "id": "dcbfb069",
   "metadata": {},
   "outputs": [],
   "source": []
  },
  {
   "cell_type": "markdown",
   "id": "6f5f5851",
   "metadata": {},
   "source": [
    "# 7. Bringing FoodVision Mini to life by creating Gradio demo\n",
    "\n",
    "We have chosen to deploy EffNetB2 as it fulfils our criteria the best.\n",
    "\n",
    "What is Gradio?\n",
    "\n",
    "> Gradio is the fastest way to demo your machine learning model with a friendly web interface so that anyone can use it, anywhere!"
   ]
  },
  {
   "cell_type": "code",
   "execution_count": 65,
   "id": "0785bf48",
   "metadata": {},
   "outputs": [],
   "source": [
    "#!pip3 install gradio"
   ]
  },
  {
   "cell_type": "markdown",
   "id": "698915d8",
   "metadata": {},
   "source": [
    "### 7.1 Gradio Overview\n",
    "\n",
    "Gradio helps you create machine learning demo.\n",
    "\n",
    "Why create a demo?\n",
    "\n",
    "So other people can try our models and we can test them in real-world.\n",
    "\n",
    "Deployment is as important as training.\n",
    "\n",
    "The overall premise of Gradio is to map inputs -> function/model -> outputs."
   ]
  },
  {
   "cell_type": "code",
   "execution_count": null,
   "id": "3b3be517",
   "metadata": {},
   "outputs": [],
   "source": []
  },
  {
   "cell_type": "markdown",
   "id": "ea40637c",
   "metadata": {},
   "source": [
    "### 7.2 Creating a function to map our inputs and outputs"
   ]
  },
  {
   "cell_type": "code",
   "execution_count": 68,
   "id": "58e5ffcc",
   "metadata": {},
   "outputs": [
    {
     "data": {
      "text/plain": [
       "device(type='cpu')"
      ]
     },
     "execution_count": 68,
     "metadata": {},
     "output_type": "execute_result"
    }
   ],
   "source": [
    "# Put our model on CPU\n",
    "effnetb2 = effnetb2.to(\"cpu\")\n",
    "\n",
    "# Check the device\n",
    "next(iter(effnetb2.parameters())).device"
   ]
  },
  {
   "cell_type": "code",
   "execution_count": null,
   "id": "a62fdf3c",
   "metadata": {},
   "outputs": [],
   "source": []
  },
  {
   "cell_type": "markdown",
   "id": "e7ef98e5",
   "metadata": {},
   "source": [
    "Let's create a function called `predict()` to go from\n",
    "\n",
    "```\n",
    "images of food -> ML model (EffNetB2) -> outputs (Food class label, prediction time)\n",
    "```"
   ]
  },
  {
   "cell_type": "code",
   "execution_count": 72,
   "id": "f4a8278c",
   "metadata": {},
   "outputs": [],
   "source": [
    "def predict(img):\n",
    "    # Start a timer\n",
    "    start_time = timer()\n",
    "    \n",
    "    # Transform the input image for use with EffNetB2\n",
    "    img = effnetb2_transforms(img).unsqueeze(dim = 0)  # unsqueeze = add batch dimension on 0th index.\n",
    "    \n",
    "    # Put model into eval mode, make prediction\n",
    "    effnetb2.eval()\n",
    "    with torch.inference_mode():\n",
    "        # Pass transformed image through the model and turn the prediction logits into probabilities.\n",
    "        pred_probs = torch.softmax(effnetb2(img), dim = 1)\n",
    "    \n",
    "    # Create a prediction label and prediction probability dictionary\n",
    "    pred_labels_and_probs = {class_names[i]: float(pred_probs[0][i]) for i in range(len(class_names))}\n",
    "    \n",
    "    # Calculate pred time\n",
    "    end_time = timer()\n",
    "    pred_time = round(end_time - start_time, 4)\n",
    "    \n",
    "    # Return pred dict and pred time\n",
    "    return pred_labels_and_probs, pred_time"
   ]
  },
  {
   "cell_type": "code",
   "execution_count": 88,
   "id": "22749f84",
   "metadata": {},
   "outputs": [
    {
     "name": "stdout",
     "output_type": "stream",
     "text": [
      "Example test data path: Datasets/pizza_steak_sushi_20_percent/test/pizza/3375083.jpg\n",
      "[INFO] Predicting on image at path: Datasets/pizza_steak_sushi_20_percent/test/pizza/482858.jpg\n",
      "\n",
      "{'pizza': 0.9970040917396545, 'steak': 0.0010967645794153214, 'sushi': 0.0018990918761119246}\n",
      "0.1058\n"
     ]
    }
   ],
   "source": [
    "import random\n",
    "from PIL import Image\n",
    "\n",
    "# Get a list of all test image filepaths\n",
    "test_data_paths = list(Path(test_dir).glob(\"*/*.jpg\"))\n",
    "print(f\"Example test data path: {test_data_paths[0]}\")\n",
    "\n",
    "# Randomly select a test image path\n",
    "random_image_path = random.sample(test_data_paths, k = 1)[0]\n",
    "\n",
    "# Open the target image\n",
    "image = Image.open(random_image_path)\n",
    "print(f\"[INFO] Predicting on image at path: {random_image_path}\\n\")\n",
    "\n",
    "# Predict on the target image and print out the outputs\n",
    "pred_dict, pred_time = predict(img = image)\n",
    "print(pred_dict)\n",
    "print(pred_time)"
   ]
  },
  {
   "cell_type": "code",
   "execution_count": null,
   "id": "34b12557",
   "metadata": {},
   "outputs": [],
   "source": []
  },
  {
   "cell_type": "markdown",
   "id": "7dbd55a0",
   "metadata": {},
   "source": [
    "### 7.3 Creating a list of example images"
   ]
  },
  {
   "cell_type": "code",
   "execution_count": 91,
   "id": "a83cf38e",
   "metadata": {},
   "outputs": [
    {
     "data": {
      "text/plain": [
       "[['Datasets/pizza_steak_sushi_20_percent/test/steak/550687.jpg'],\n",
       " ['Datasets/pizza_steak_sushi_20_percent/test/steak/1902895.jpg'],\n",
       " ['Datasets/pizza_steak_sushi_20_percent/test/sushi/2416569.jpg']]"
      ]
     },
     "execution_count": 91,
     "metadata": {},
     "output_type": "execute_result"
    }
   ],
   "source": [
    "# Create a list of example inputs to our Gradio demo\n",
    "example_list = [[str(filepath)] for filepath in random.sample(test_data_paths, k = 3)]\n",
    "example_list"
   ]
  },
  {
   "cell_type": "code",
   "execution_count": null,
   "id": "56663663",
   "metadata": {},
   "outputs": [],
   "source": []
  },
  {
   "cell_type": "markdown",
   "id": "724764b0",
   "metadata": {},
   "source": [
    "### 7.4 Building a Gradio Interface\n",
    "\n",
    "Let's use `gr.Interface()` to go from:\n",
    "\n",
    "```\n",
    "input_image -> transform -> predict with EffNetB2 -> output: pred_prob, pred_time\n",
    "```"
   ]
  },
  {
   "cell_type": "code",
   "execution_count": 92,
   "id": "b234522c",
   "metadata": {},
   "outputs": [
    {
     "name": "stderr",
     "output_type": "stream",
     "text": [
      "/home/dev_ashish/anaconda3/lib/python3.9/site-packages/gradio/deprecation.py:43: UserWarning: You have unused kwarg parameters in Interface, please remove them: {'example': [['Datasets/pizza_steak_sushi_20_percent/test/steak/550687.jpg'], ['Datasets/pizza_steak_sushi_20_percent/test/steak/1902895.jpg'], ['Datasets/pizza_steak_sushi_20_percent/test/sushi/2416569.jpg']]}\n",
      "  warnings.warn(\n"
     ]
    },
    {
     "name": "stdout",
     "output_type": "stream",
     "text": [
      "Running on local URL:  http://127.0.0.1:7860\n",
      "Running on public URL: https://bf45b190-8f39-47c6.gradio.live\n",
      "\n",
      "This share link expires in 72 hours. For free permanent hosting and GPU upgrades (NEW!), check out Spaces: https://huggingface.co/spaces\n"
     ]
    },
    {
     "data": {
      "text/html": [
       "<div><iframe src=\"https://bf45b190-8f39-47c6.gradio.live\" width=\"100%\" height=\"500\" allow=\"autoplay; camera; microphone; clipboard-read; clipboard-write;\" frameborder=\"0\" allowfullscreen></iframe></div>"
      ],
      "text/plain": [
       "<IPython.core.display.HTML object>"
      ]
     },
     "metadata": {},
     "output_type": "display_data"
    },
    {
     "name": "stdout",
     "output_type": "stream",
     "text": [
      "Keyboard interruption in main thread... closing server.\n"
     ]
    },
    {
     "name": "stderr",
     "output_type": "stream",
     "text": [
      "\n",
      "KeyboardInterrupt\n",
      "\n"
     ]
    }
   ],
   "source": [
    "import gradio as gr\n",
    "\n",
    "# Create title, description and article\n",
    "title = \"FoodVision Mini\"\n",
    "description = \"An EfficientNetB2 feature extractor computer vision model to classify images as pizza, steak or sushi\"\n",
    "article = \"Created at 17-Pytorch-Model-Deployment\"\n",
    "\n",
    "# Create the Gradio demo\n",
    "demo = gr.Interface(fn = predict, # maps inputs to outputs\n",
    "                    inputs = gr.Image(type = \"pil\"),\n",
    "                    outputs = [gr.Label(num_top_classes = 3, label = \"Predictions\"),\n",
    "                               gr.Number(label = \"Prediction time {s}\")],\n",
    "                    examples = example_list,\n",
    "                    title = title,\n",
    "                    description = description,\n",
    "                    article = article\n",
    "                    )\n",
    "\n",
    "# Launch the demo.\n",
    "demo.launch(debug = True,  # Print erros locally\n",
    "            share = True   # generate a publically sharable URL\n",
    "            )                    "
   ]
  },
  {
   "cell_type": "code",
   "execution_count": null,
   "id": "9ef2108e",
   "metadata": {},
   "outputs": [],
   "source": []
  },
  {
   "cell_type": "code",
   "execution_count": null,
   "id": "7b7a303f",
   "metadata": {},
   "outputs": [],
   "source": []
  },
  {
   "cell_type": "code",
   "execution_count": null,
   "id": "4953a702",
   "metadata": {},
   "outputs": [],
   "source": []
  },
  {
   "cell_type": "markdown",
   "id": "e7bd0c55",
   "metadata": {},
   "source": [
    "# 8. Turning our FoodVision Mini Gradio Demo into a deployable app\n",
    "\n",
    "Our Gradio demos from Jupyter Notebook are fantastic but they expire within 72 hours.\n",
    "\n",
    "To fix this, we are going to prepare our app files so we can host them on Hugging Face Spaces."
   ]
  },
  {
   "cell_type": "markdown",
   "id": "e95b7bbc",
   "metadata": {},
   "source": [
    "### 8.1 What is Hugging Face Spaces?\n",
    "\n",
    "Hugging Face Spaces offer a simple way to host ML demo apps directly on your profile or your organization’s profile. This allows you to create your ML portfolio, showcase your projects at conferences or to stakeholders, and work collaboratively with other people in the ML ecosystem.\n",
    "\n",
    "If Github is a place to show your coding ability, Hugging Face Space is a place to show your machine learning ability (through sharing ML demos that you have built)."
   ]
  },
  {
   "cell_type": "code",
   "execution_count": null,
   "id": "89c6d062",
   "metadata": {},
   "outputs": [],
   "source": []
  },
  {
   "cell_type": "markdown",
   "id": "bf307ab8",
   "metadata": {},
   "source": [
    "### 8.2 Deployed Gradio App Structure\n",
    "\n",
    "Let's start to put all of our app files into a single directory:\n",
    "\n",
    "```\n",
    "Jupyter Notebook -> folder with all Gradio files -> upload app files to Hugging Face Spaces -> Deploy\n",
    "```"
   ]
  },
  {
   "cell_type": "code",
   "execution_count": null,
   "id": "defdc576",
   "metadata": {},
   "outputs": [],
   "source": []
  },
  {
   "cell_type": "markdown",
   "id": "9e0a2fdc",
   "metadata": {},
   "source": [
    "### 8.3 Creating a `demos` folder to store our FoodVision app files"
   ]
  },
  {
   "cell_type": "code",
   "execution_count": 95,
   "id": "e5b4c3b2",
   "metadata": {},
   "outputs": [
    {
     "name": "stdout",
     "output_type": "stream",
     "text": [
      "foodvision_mini\r\n"
     ]
    }
   ],
   "source": [
    "import os\n",
    "import shutil\n",
    "from pathlib import Path\n",
    "\n",
    "# Create FoodVision mini demo path\n",
    "foodvision_mini_demo_path = Path(os.path.join(\"demos\", \"foodvision_mini\"))\n",
    "\n",
    "# Remove files that might already exist and create a new directory\n",
    "if foodvision_mini_demo_path.exists():\n",
    "    shutil.rmtree(foodvision_mini_demo_path)\n",
    "    foodvision_mini_demo_path.mkdir(parents = True,\n",
    "                                    exist_ok = True,\n",
    "                                    )\n",
    "    \n",
    "else:\n",
    "    foodvision_mini_demo_path.mkdir(parents = True,\n",
    "                                    exist_ok = True,\n",
    "                                    )\n",
    "    \n",
    "!ls demos"
   ]
  },
  {
   "cell_type": "code",
   "execution_count": 98,
   "id": "218daa0f",
   "metadata": {},
   "outputs": [
    {
     "data": {
      "text/plain": [
       "PosixPath('demos/foodvision_mini')"
      ]
     },
     "execution_count": 98,
     "metadata": {},
     "output_type": "execute_result"
    }
   ],
   "source": [
    "foodvision_mini_demo_path"
   ]
  },
  {
   "cell_type": "code",
   "execution_count": null,
   "id": "c51a0025",
   "metadata": {},
   "outputs": [],
   "source": []
  },
  {
   "cell_type": "markdown",
   "id": "4330f44c",
   "metadata": {},
   "source": [
    "### 8.4 Creating a folder of example images to use with our FoodVision Mini Demo\n",
    "\n",
    "What we want:\n",
    "   - 3 images in an example/ directory\n",
    "   - images should be from the test set"
   ]
  },
  {
   "cell_type": "code",
   "execution_count": 111,
   "id": "948a9358",
   "metadata": {},
   "outputs": [
    {
     "name": "stdout",
     "output_type": "stream",
     "text": [
      "[INFO] Copying Datasets/pizza_steak_sushi/test/pizza/714866.jpg to demos/foodvision_mini/examples/714866.jpg\n",
      "[INFO] Copying Datasets/pizza_steak_sushi/test/steak/1868005.jpg to demos/foodvision_mini/examples/1868005.jpg\n",
      "[INFO] Copying Datasets/pizza_steak_sushi/test/sushi/719108.jpg to demos/foodvision_mini/examples/719108.jpg\n"
     ]
    }
   ],
   "source": [
    "# Create an example directory\n",
    "foodvision_mini_examples_path = Path(os.path.join(foodvision_mini_demo_path, \"examples\"))\n",
    "foodvision_mini_examples_path.mkdir(parents = True, exist_ok = True)\n",
    "\n",
    "# Collect three test dataset image paths\n",
    "foodvision_mini_examples = [Path(os.path.join(\"Datasets\", \"pizza_steak_sushi\", \"test\", \"pizza\", \"714866.jpg\")),\n",
    "                            Path(os.path.join(\"Datasets\", \"pizza_steak_sushi\", \"test\", \"steak\", \"1868005.jpg\")),\n",
    "                            Path(os.path.join(\"Datasets\", \"pizza_steak_sushi\", \"test\", \"sushi\", \"719108.jpg\"))\n",
    "                           ]\n",
    "\n",
    "# Copy the three images to the examples directory\n",
    "for example in foodvision_mini_examples:\n",
    "    destination = os.path.join(foodvision_mini_examples_path, example.name)\n",
    "    print(f\"[INFO] Copying {example} to {destination}\")\n",
    "    shutil.copy2(src = example, dst = destination)"
   ]
  },
  {
   "cell_type": "code",
   "execution_count": null,
   "id": "e9264578",
   "metadata": {},
   "outputs": [],
   "source": []
  },
  {
   "cell_type": "markdown",
   "id": "2f60e1de",
   "metadata": {},
   "source": [
    "### Lets verify that we can get a list of lists from our `example` directory because `Gradio` requires examples in a list of list format."
   ]
  },
  {
   "cell_type": "code",
   "execution_count": 116,
   "id": "a935912e",
   "metadata": {},
   "outputs": [
    {
     "data": {
      "text/plain": [
       "[['examples/1868005.jpg'], ['examples/714866.jpg'], ['examples/719108.jpg']]"
      ]
     },
     "execution_count": 116,
     "metadata": {},
     "output_type": "execute_result"
    }
   ],
   "source": [
    "import os\n",
    "\n",
    "# Get example filepath in a list of list\n",
    "example_list = [[os.path.join(\"examples\", example)] for example in os.listdir(foodvision_mini_examples_path)]\n",
    "example_list"
   ]
  },
  {
   "cell_type": "code",
   "execution_count": null,
   "id": "cd73d1b1",
   "metadata": {},
   "outputs": [],
   "source": []
  },
  {
   "cell_type": "code",
   "execution_count": null,
   "id": "17f44ad9",
   "metadata": {},
   "outputs": [],
   "source": []
  },
  {
   "cell_type": "markdown",
   "id": "52ca9b47",
   "metadata": {},
   "source": [
    "### 8.5 Moving our trained EffNetB2 model to our FoodVision Mini demo directory"
   ]
  },
  {
   "cell_type": "code",
   "execution_count": 125,
   "id": "710ffad8",
   "metadata": {},
   "outputs": [
    {
     "name": "stdout",
     "output_type": "stream",
     "text": [
      "[INFO] Attempting to move models/17_pretrained_effnetb2_20_percent.pth to demos/foodvision_mini/17_pretrained_effnetb2_20_percent.pth\n",
      "[INFO] No model found at models/17_pretrained_effnetb2_20_percent.pth, perhaps its already been moved\n",
      "[INFO] Model exists at demos/foodvision_mini/17_pretrained_effnetb2_20_percent.pth\n"
     ]
    }
   ],
   "source": [
    "# Create a source path for our target model\n",
    "effnetb2_foodvision_mini_model_path = os.path.join(\"models\", \"17_pretrained_effnetb2_20_percent.pth\")\n",
    "\n",
    "# Create a destination path for our target model\n",
    "effnetb2_foodvision_mini_model_destination = os.path.join(foodvision_mini_demo_path, effnetb2_foodvision_mini_model_path.split(\"/\")[1])\n",
    "\n",
    "# Try to move the model file\n",
    "try:\n",
    "    print(f\"[INFO] Attempting to move {effnetb2_foodvision_mini_model_path} to {effnetb2_foodvision_mini_model_destination}\")\n",
    "    # Move the model\n",
    "    shutil.move(src = effnetb2_foodvision_mini_model_path,\n",
    "                dst = effnetb2_foodvision_mini_model_destination)\n",
    "    print(f\"[INFO] Model move complete.\")\n",
    "    \n",
    "# If the model has already been moved, check if it exists\n",
    "except:\n",
    "    print(f\"[INFO] No model found at {effnetb2_foodvision_mini_model_path}, perhaps its already been moved\")\n",
    "    print(f\"[INFO] Model exists at {effnetb2_foodvision_mini_model_destination}\")"
   ]
  },
  {
   "cell_type": "code",
   "execution_count": null,
   "id": "19693164",
   "metadata": {},
   "outputs": [],
   "source": []
  },
  {
   "cell_type": "code",
   "execution_count": null,
   "id": "9f38150f",
   "metadata": {},
   "outputs": [],
   "source": []
  },
  {
   "cell_type": "markdown",
   "id": "47726d07",
   "metadata": {},
   "source": [
    "### 8.6 Turning off EffNetB2 model into a Python Script (`model.py`)\n",
    "\n",
    "We have a saved `.pth` model `state_dict` and want to load it into a model instance.\n",
    "\n",
    "Let's move our `create_effnetb2_model()` function to a script so we can reuse it."
   ]
  },
  {
   "cell_type": "code",
   "execution_count": 126,
   "id": "661f98e2",
   "metadata": {},
   "outputs": [
    {
     "name": "stdout",
     "output_type": "stream",
     "text": [
      "Writing demos/foodvision_mini/model.py\n"
     ]
    }
   ],
   "source": [
    "%%writefile demos/foodvision_mini/model.py\n",
    "\n",
    "import torch\n",
    "import torchvision\n",
    "import torch.nn as nn\n",
    "\n",
    "\n",
    "def create_effnetb2_model(num_classes: int = 3,\n",
    "                          seed: int =42):\n",
    "\n",
    "    # 1. Setup pretrained EffNetB2 weights\n",
    "    effnetb2_weights = torchvision.models.EfficientNet_B2_Weights.DEFAULT   # DEFAULT = best available weights.\n",
    "\n",
    "    # 2. Get EffNetB2 transforms\n",
    "    effnetb2_transforms = effnetb2_weights.transforms()\n",
    "\n",
    "    # 3. Setup pretrained model instance\n",
    "    effnetb2 = torchvision.models.efficientnet_b2(weights = effnetb2_weights)\n",
    "\n",
    "    # 4. Freeze the base layers\n",
    "    for param in effnetb2.parameters():\n",
    "        param.requires_grad = False\n",
    "        \n",
    "    # 5. Change classifier head with random seed for reproducibility.    \n",
    "    torch.manual_seed(seed)\n",
    "    effnetb2.classifier = nn.Sequential(\n",
    "        nn.Dropout(p = 0.3, inplace = True),\n",
    "        nn.Linear(in_features = 1408, out_features = num_classes, bias = True)\n",
    "        )\n",
    "    \n",
    "    return effnetb2, effnetb2_transforms"
   ]
  },
  {
   "cell_type": "code",
   "execution_count": null,
   "id": "c195cd23",
   "metadata": {},
   "outputs": [],
   "source": []
  },
  {
   "cell_type": "code",
   "execution_count": null,
   "id": "b7b5b4dc",
   "metadata": {},
   "outputs": [],
   "source": []
  },
  {
   "cell_type": "markdown",
   "id": "573dfff1",
   "metadata": {},
   "source": [
    "### 8.7 Turning our FoodVision Mini Gradio App into a Python script (`app.py`)\n",
    "\n",
    "The `app.py` file will have 4 major parts:\n",
    "1. Imports and class names setup\n",
    "2. Model and transforms preparation.\n",
    "3. Predict function (`predict()`) \n",
    "4. Gradio app - our Gradio interface + launch command"
   ]
  },
  {
   "cell_type": "code",
   "execution_count": 128,
   "id": "40c99537",
   "metadata": {},
   "outputs": [
    {
     "name": "stdout",
     "output_type": "stream",
     "text": [
      "Writing demos/foodvision_mini/app.py\n"
     ]
    }
   ],
   "source": [
    "%%writefile demos/foodvision_mini/app.py\n",
    "\n",
    "### 1. Imports and class names setup ###\n",
    "import gradio as gr\n",
    "import os\n",
    "import torch\n",
    "from model import create_effnetb2_model\n",
    "from timeit import default_timer as timer\n",
    "\n",
    "# Setup class names\n",
    "class_names = [\"pizza\", \"steak\", \"sushi\"]\n",
    "\n",
    "\n",
    "### 2. Model and transforms preparation ###\n",
    "effnetb2, effnetb2_transforms = create_effnetb2_model(num_classes = len(class_names))\n",
    "\n",
    "# Load save weights\n",
    "effnetb2.load_state_dict(\n",
    "    torch.load(\n",
    "        f = \"17_pretrained_effnetb2_20_percent.pth\",\n",
    "        map_location = torch.device(\"cpu\")  # load the model to the cpu because model was trained on gpu.\n",
    "        )\n",
    ")\n",
    "    \n",
    "\n",
    "### 3. Predict function (predict()) ###\n",
    "def predict(img):\n",
    "    # Start a timer\n",
    "    start_time = timer()\n",
    "    \n",
    "    # Transform the input image for use with EffNetB2\n",
    "    img = effnetb2_transforms(img).unsqueeze(dim = 0)  # unsqueeze = add batch dimension on 0th index.\n",
    "    \n",
    "    # Put model into eval mode, make prediction\n",
    "    effnetb2.eval()\n",
    "    with torch.inference_mode():\n",
    "        # Pass transformed image through the model and turn the prediction logits into probabilities.\n",
    "        pred_probs = torch.softmax(effnetb2(img), dim = 1)\n",
    "    \n",
    "    # Create a prediction label and prediction probability dictionary\n",
    "    pred_labels_and_probs = {class_names[i]: float(pred_probs[0][i]) for i in range(len(class_names))}\n",
    "    \n",
    "    # Calculate pred time\n",
    "    end_time = timer()\n",
    "    pred_time = round(end_time - start_time, 4)\n",
    "    \n",
    "    # Return pred dict and pred time\n",
    "    return pred_labels_and_probs, pred_time\n",
    "\n",
    "\n",
    "\n",
    "### 4. Gradio app - our Gradio interface + launch command ###\n",
    "# Create title, description and article\n",
    "title = \"FoodVision Mini\"\n",
    "description = \"An EfficientNetB2 feature extractor computer vision model to classify images as pizza, steak or sushi\"\n",
    "article = \"Created at 17-Pytorch-Model-Deployment\"\n",
    "\n",
    "# Create example_list\n",
    "example_list = [[os.path.join(\"examples\", example)] for example in os.listdir(\"examples\")]\n",
    "\n",
    "# Create the Gradio demo\n",
    "demo = gr.Interface(fn = predict, # maps inputs to outputs\n",
    "                    inputs = gr.Image(type = \"pil\"),\n",
    "                    outputs = [gr.Label(num_top_classes = 3, label = \"Predictions\"),\n",
    "                               gr.Number(label = \"Prediction time {s}\")],\n",
    "                    examples = example_list,\n",
    "                    title = title,\n",
    "                    description = description,\n",
    "                    article = article\n",
    "                    )\n",
    "\n",
    "# Launch the demo.\n",
    "demo.launch(debug = True  # Print erros locally\n",
    "            )                    \n"
   ]
  },
  {
   "cell_type": "code",
   "execution_count": null,
   "id": "e8c9638b",
   "metadata": {},
   "outputs": [],
   "source": []
  },
  {
   "cell_type": "code",
   "execution_count": null,
   "id": "e9887fe8",
   "metadata": {},
   "outputs": [],
   "source": []
  },
  {
   "cell_type": "markdown",
   "id": "25ae1e28",
   "metadata": {},
   "source": [
    "### 8.8 Creating requirements.txt\n",
    "\n",
    "This requirements.txt file will tell our Hugging Face Space what all libraries dependencies our app requires."
   ]
  },
  {
   "cell_type": "code",
   "execution_count": 132,
   "id": "1fcd34b8",
   "metadata": {},
   "outputs": [
    {
     "name": "stdout",
     "output_type": "stream",
     "text": [
      "Writing demos/foodvision_mini/requirements.txt\n"
     ]
    }
   ],
   "source": [
    "%%writefile demos/foodvision_mini/requirements.txt\n",
    "torch==1.12.0\n",
    "torchvision==0.13.0\n",
    "gradio==3.1.4"
   ]
  },
  {
   "cell_type": "code",
   "execution_count": null,
   "id": "36dd32ae",
   "metadata": {},
   "outputs": [],
   "source": []
  },
  {
   "cell_type": "code",
   "execution_count": null,
   "id": "5c8b5d90",
   "metadata": {},
   "outputs": [],
   "source": []
  },
  {
   "cell_type": "code",
   "execution_count": null,
   "id": "94a8b4bd",
   "metadata": {},
   "outputs": [],
   "source": []
  },
  {
   "cell_type": "code",
   "execution_count": null,
   "id": "fb0cf496",
   "metadata": {},
   "outputs": [],
   "source": []
  },
  {
   "cell_type": "markdown",
   "id": "d61524e4",
   "metadata": {},
   "source": [
    "# 9. We Deployed FoodVision Mini at HuggingFace using Gradio. Now Embedded it here\n",
    "\n",
    "Hugging Face app link:- https://huggingface.co/spaces/devashish07/food_vision_mini"
   ]
  },
  {
   "cell_type": "code",
   "execution_count": 138,
   "id": "8edea1c9",
   "metadata": {},
   "outputs": [],
   "source": [
    "from IPython.display import IFrame"
   ]
  },
  {
   "cell_type": "code",
   "execution_count": 146,
   "id": "8bb12fc3",
   "metadata": {},
   "outputs": [
    {
     "data": {
      "text/html": [
       "\n",
       "        <iframe\n",
       "            width=\"950\"\n",
       "            height=\"750\"\n",
       "            src=\"https://devashish07-food-vision-mini.hf.space?frameborder=0\"\n",
       "            frameborder=\"0\"\n",
       "            allowfullscreen\n",
       "            \n",
       "        ></iframe>\n",
       "        "
      ],
      "text/plain": [
       "<IPython.lib.display.IFrame at 0x7f3395298d00>"
      ]
     },
     "execution_count": 146,
     "metadata": {},
     "output_type": "execute_result"
    }
   ],
   "source": [
    "IFrame(src=\"https://devashish07-food-vision-mini.hf.space\", frameborder=\"0\", \n",
    "       width=\"950\" ,height=\"750\")"
   ]
  },
  {
   "cell_type": "code",
   "execution_count": null,
   "id": "428db3ca",
   "metadata": {},
   "outputs": [],
   "source": []
  },
  {
   "cell_type": "code",
   "execution_count": null,
   "id": "75d5a4bb",
   "metadata": {},
   "outputs": [],
   "source": []
  },
  {
   "cell_type": "code",
   "execution_count": null,
   "id": "1b34fe02",
   "metadata": {},
   "outputs": [],
   "source": []
  }
 ],
 "metadata": {
  "kernelspec": {
   "display_name": "Python 3 (ipykernel)",
   "language": "python",
   "name": "python3"
  },
  "language_info": {
   "codemirror_mode": {
    "name": "ipython",
    "version": 3
   },
   "file_extension": ".py",
   "mimetype": "text/x-python",
   "name": "python",
   "nbconvert_exporter": "python",
   "pygments_lexer": "ipython3",
   "version": "3.9.7"
  }
 },
 "nbformat": 4,
 "nbformat_minor": 5
}
