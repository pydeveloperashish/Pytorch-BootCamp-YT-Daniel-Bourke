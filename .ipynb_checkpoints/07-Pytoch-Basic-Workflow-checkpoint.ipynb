{
 "cells": [
  {
   "cell_type": "code",
   "execution_count": 80,
   "id": "7485de9d",
   "metadata": {},
   "outputs": [
    {
     "name": "stdout",
     "output_type": "stream",
     "text": [
      "1.11.0+cu102\n"
     ]
    }
   ],
   "source": [
    "import torch\n",
    "import torch.nn as nn\n",
    "import matplotlib.pyplot as plt\n",
    "print(torch.__version__)"
   ]
  },
  {
   "cell_type": "code",
   "execution_count": 81,
   "id": "36b7e54a",
   "metadata": {},
   "outputs": [],
   "source": [
    "weights = 0.7\n",
    "bais = 0.3"
   ]
  },
  {
   "cell_type": "markdown",
   "id": "cd1cb7bd",
   "metadata": {},
   "source": [
    "## Create a data"
   ]
  },
  {
   "cell_type": "code",
   "execution_count": 82,
   "id": "f9fead74",
   "metadata": {},
   "outputs": [],
   "source": [
    "start = 0\n",
    "end = 1\n",
    "step = 0.02\n",
    "\n",
    "X = torch.arange(start, end, step).unsqueeze(dim = 1)\n",
    "Y = weights * X + bais"
   ]
  },
  {
   "cell_type": "code",
   "execution_count": 83,
   "id": "b3a32261",
   "metadata": {},
   "outputs": [
    {
     "data": {
      "text/plain": [
       "(tensor([[0.0000],\n",
       "         [0.0200],\n",
       "         [0.0400],\n",
       "         [0.0600],\n",
       "         [0.0800],\n",
       "         [0.1000],\n",
       "         [0.1200],\n",
       "         [0.1400],\n",
       "         [0.1600],\n",
       "         [0.1800]]),\n",
       " tensor([[0.3000],\n",
       "         [0.3140],\n",
       "         [0.3280],\n",
       "         [0.3420],\n",
       "         [0.3560],\n",
       "         [0.3700],\n",
       "         [0.3840],\n",
       "         [0.3980],\n",
       "         [0.4120],\n",
       "         [0.4260]]))"
      ]
     },
     "execution_count": 83,
     "metadata": {},
     "output_type": "execute_result"
    }
   ],
   "source": [
    "X[:10], Y[:10]"
   ]
  },
  {
   "cell_type": "code",
   "execution_count": null,
   "id": "e62dc582",
   "metadata": {},
   "outputs": [],
   "source": []
  },
  {
   "cell_type": "markdown",
   "id": "3991ab87",
   "metadata": {},
   "source": [
    "## Splitting data into train and test"
   ]
  },
  {
   "cell_type": "code",
   "execution_count": 84,
   "id": "e97411df",
   "metadata": {},
   "outputs": [],
   "source": [
    "train_split = int(0.8 * len(X))\n",
    "X_train, Y_train = X[:train_split], Y[:train_split]\n",
    "X_test, Y_test = X[train_split:], Y[train_split:]"
   ]
  },
  {
   "cell_type": "code",
   "execution_count": 85,
   "id": "5a12e0de",
   "metadata": {},
   "outputs": [
    {
     "data": {
      "text/plain": [
       "(40, 40, 10, 10)"
      ]
     },
     "execution_count": 85,
     "metadata": {},
     "output_type": "execute_result"
    }
   ],
   "source": [
    "len(X_train), len(Y_train), len(X_test), len(Y_test)"
   ]
  },
  {
   "cell_type": "code",
   "execution_count": null,
   "id": "4f9a63ba",
   "metadata": {},
   "outputs": [],
   "source": []
  },
  {
   "cell_type": "markdown",
   "id": "1f9a50f4",
   "metadata": {},
   "source": [
    "# Visualize the Data"
   ]
  },
  {
   "cell_type": "code",
   "execution_count": 86,
   "id": "dcd4551a",
   "metadata": {},
   "outputs": [],
   "source": [
    "def plot_predictions(train_data = X_train,\n",
    "                     train_labels = Y_train,\n",
    "                     test_data = X_test,\n",
    "                     test_labels = Y_test,\n",
    "                     predictions = None):\n",
    "\n",
    "    plt.figure(figsize = (7, 7))\n",
    "    plt.scatter(train_data, train_labels, c = \"b\", s = 10, label = \"Training data\")   \n",
    "    plt.scatter(test_data, test_labels, c = \"g\", s = 25, label = \"Testing data\")\n",
    "    \n",
    "    if predictions is not None:\n",
    "        plt.scatter(test_data, predictions, c = \"r\", s = 3, label = \"Predictions\")\n",
    "        \n",
    "    plt.legend(prop = {\"size\" : 14})"
   ]
  },
  {
   "cell_type": "code",
   "execution_count": 87,
   "id": "c657d182",
   "metadata": {},
   "outputs": [
    {
     "data": {
      "image/png": "[encoded data removed]",
      "text/plain": [
       "<Figure size 504x504 with 1 Axes>"
      ]
     },
     "metadata": {
      "needs_background": "light"
     },
     "output_type": "display_data"
    }
   ],
   "source": [
    "plot_predictions()"
   ]
  },
  {
   "cell_type": "code",
   "execution_count": null,
   "id": "f5a71997",
   "metadata": {},
   "outputs": [],
   "source": []
  },
  {
   "cell_type": "markdown",
   "id": "00c8f4b1",
   "metadata": {},
   "source": [
    "# Build Model"
   ]
  },
  {
   "cell_type": "code",
   "execution_count": 88,
   "id": "35ca50e6",
   "metadata": {},
   "outputs": [],
   "source": [
    "class LinearRegressionModel(nn.Module):  # almost everything in Pytorch inherits from nn.Module\n",
    "    def __init__(self):\n",
    "        super().__init__()\n",
    "        self.weights = nn.Parameter(torch.randn(1,\n",
    "                                                requires_grad = True,\n",
    "                                                dtype = torch.float))\n",
    "        \n",
    "        self.bais = nn.Parameter(torch.randn(1,\n",
    "                                             requires_grad = True,\n",
    "                                             dtype = torch.float))\n",
    "        \n",
    "        \n",
    "    # Forward method to define the computation in the model\n",
    "    def forward(self, x : torch.Tensor) -> torch.Tensor:   \n",
    "        return self.weights * x + self.bais              # This is the linear regression formula"
   ]
  },
  {
   "cell_type": "code",
   "execution_count": null,
   "id": "bda00a09",
   "metadata": {},
   "outputs": [],
   "source": []
  },
  {
   "cell_type": "code",
   "execution_count": null,
   "id": "92780da7",
   "metadata": {},
   "outputs": [],
   "source": []
  },
  {
   "cell_type": "markdown",
   "id": "e6c2a61e",
   "metadata": {},
   "source": [
    "## Checking the contents of our model"
   ]
  },
  {
   "cell_type": "code",
   "execution_count": 89,
   "id": "ab1be376",
   "metadata": {},
   "outputs": [
    {
     "data": {
      "text/plain": [
       "LinearRegressionModel()"
      ]
     },
     "execution_count": 89,
     "metadata": {},
     "output_type": "execute_result"
    }
   ],
   "source": [
    "# Create a random seed\n",
    "torch.manual_seed(42)\n",
    "\n",
    "# Create an instance of the model\n",
    "model_0 = LinearRegressionModel()\n",
    "\n",
    "model_0"
   ]
  },
  {
   "cell_type": "code",
   "execution_count": 90,
   "id": "5a6784e4",
   "metadata": {},
   "outputs": [
    {
     "data": {
      "text/plain": [
       "[Parameter containing:\n",
       " tensor([0.3367], requires_grad=True),\n",
       " Parameter containing:\n",
       " tensor([0.1288], requires_grad=True)]"
      ]
     },
     "execution_count": 90,
     "metadata": {},
     "output_type": "execute_result"
    }
   ],
   "source": [
    "# checkout the parameters\n",
    "\n",
    "list(model_0.parameters())"
   ]
  },
  {
   "cell_type": "markdown",
   "id": "bb997578",
   "metadata": {},
   "source": [
    "With torch.randn() we will get different value everytime.\n",
    "\n",
    "But if we use torch.manual_seed(42), we will get same one randomly generated value everytime."
   ]
  },
  {
   "cell_type": "code",
   "execution_count": 91,
   "id": "57529a93",
   "metadata": {},
   "outputs": [
    {
     "data": {
      "text/plain": [
       "tensor([0.2345])"
      ]
     },
     "execution_count": 91,
     "metadata": {},
     "output_type": "execute_result"
    }
   ],
   "source": [
    "torch.randn(1)"
   ]
  },
  {
   "cell_type": "markdown",
   "id": "8c611a3a",
   "metadata": {},
   "source": [
    "Above cell will give you randomly generated value everytime you run.\n",
    "\n",
    "But below cell will give you one randomly generated value everytime you run because of torch.manual_seed()"
   ]
  },
  {
   "cell_type": "code",
   "execution_count": 92,
   "id": "d8573dca",
   "metadata": {},
   "outputs": [
    {
     "data": {
      "text/plain": [
       "tensor([0.3367])"
      ]
     },
     "execution_count": 92,
     "metadata": {},
     "output_type": "execute_result"
    }
   ],
   "source": [
    "torch.manual_seed(42)\n",
    "torch.randn(1)"
   ]
  },
  {
   "cell_type": "code",
   "execution_count": null,
   "id": "8dd1bdef",
   "metadata": {},
   "outputs": [],
   "source": []
  },
  {
   "cell_type": "code",
   "execution_count": 93,
   "id": "b84bfe16",
   "metadata": {},
   "outputs": [
    {
     "data": {
      "text/plain": [
       "OrderedDict([('weights', tensor([0.3367])), ('bais', tensor([0.1288]))])"
      ]
     },
     "execution_count": 93,
     "metadata": {},
     "output_type": "execute_result"
    }
   ],
   "source": [
    "# List named parameters\n",
    "model_0.state_dict()"
   ]
  },
  {
   "cell_type": "markdown",
   "id": "f8dd02af",
   "metadata": {},
   "source": [
    "This 2 are random values and we need to train our model to get this value close to our ideal value\n",
    "of weights and baises that is weights = 0.7 and bais = 0.3"
   ]
  },
  {
   "cell_type": "code",
   "execution_count": null,
   "id": "2dc319d3",
   "metadata": {},
   "outputs": [],
   "source": []
  },
  {
   "cell_type": "markdown",
   "id": "982fe5f2",
   "metadata": {},
   "source": [
    "## Making Predictions without training, just to check how it works with out initial random generated weights and bais."
   ]
  },
  {
   "cell_type": "code",
   "execution_count": 94,
   "id": "e6aac53f",
   "metadata": {},
   "outputs": [
    {
     "data": {
      "text/plain": [
       "tensor([[0.3982],\n",
       "        [0.4049],\n",
       "        [0.4116],\n",
       "        [0.4184],\n",
       "        [0.4251],\n",
       "        [0.4318],\n",
       "        [0.4386],\n",
       "        [0.4453],\n",
       "        [0.4520],\n",
       "        [0.4588]])"
      ]
     },
     "execution_count": 94,
     "metadata": {},
     "output_type": "execute_result"
    }
   ],
   "source": [
    "with torch.inference_mode():  # inference_mode():- it turns off gradiant tracking, means faster prediction process.\n",
    "    y_preds = model_0(X_test)\n",
    "    \n",
    "    \n",
    "# You can also do similar with torch.no_grad()\n",
    "# with torch.no_grad():\n",
    "    # y_preds = model_0(X_test)\n",
    "    \n",
    "    \n",
    "y_preds"
   ]
  },
  {
   "cell_type": "code",
   "execution_count": 95,
   "id": "8119177d",
   "metadata": {},
   "outputs": [
    {
     "data": {
      "text/plain": [
       "tensor([[0.8600],\n",
       "        [0.8740],\n",
       "        [0.8880],\n",
       "        [0.9020],\n",
       "        [0.9160],\n",
       "        [0.9300],\n",
       "        [0.9440],\n",
       "        [0.9580],\n",
       "        [0.9720],\n",
       "        [0.9860]])"
      ]
     },
     "execution_count": 95,
     "metadata": {},
     "output_type": "execute_result"
    }
   ],
   "source": [
    "Y_test"
   ]
  },
  {
   "cell_type": "code",
   "execution_count": null,
   "id": "d20288e5",
   "metadata": {},
   "outputs": [],
   "source": []
  },
  {
   "cell_type": "code",
   "execution_count": 96,
   "id": "0094005e",
   "metadata": {},
   "outputs": [
    {
     "data": {
      "image/png": "[encoded data removed]",
      "text/plain": [
       "<Figure size 504x504 with 1 Axes>"
      ]
     },
     "metadata": {
      "needs_background": "light"
     },
     "output_type": "display_data"
    }
   ],
   "source": [
    "plot_predictions(predictions = y_preds)"
   ]
  },
  {
   "cell_type": "markdown",
   "id": "6dc81e96",
   "metadata": {},
   "source": [
    "As You can see initial results is very bad with random weights and bais and is far from how ideal model should be."
   ]
  },
  {
   "cell_type": "code",
   "execution_count": null,
   "id": "f031824a",
   "metadata": {},
   "outputs": [],
   "source": []
  },
  {
   "cell_type": "markdown",
   "id": "b784c6e7",
   "metadata": {},
   "source": [
    "# Training the Model"
   ]
  },
  {
   "cell_type": "markdown",
   "id": "f19e639e",
   "metadata": {},
   "source": [
    "To train the model, we need 2 important things:-\n",
    "- Loss Function\n",
    "- Optimizer\n",
    "\n",
    "1) One way to measure how poor or how wrong your model is performing, we use Loss Function.\n",
    "\n",
    " - Loss Function:- A function to measure how wrong your model's predictions are to the ideal outputs, lower is   better.\n",
    "\n",
    "2) We also need Optimizer.\n",
    "\n",
    " - Optimizer: Takes into account the loss of a model and adjusts the model's parameters that is weights and bais."
   ]
  },
  {
   "cell_type": "markdown",
   "id": "3c6efefc",
   "metadata": {},
   "source": [
    "To start the training and testing process, specifically for Pytorch, we need:\n",
    "  - A training loop\n",
    "  - A testing loop"
   ]
  },
  {
   "cell_type": "code",
   "execution_count": 97,
   "id": "81593b43",
   "metadata": {},
   "outputs": [],
   "source": [
    "# Setup a Loss Function\n",
    "loss_fn = nn.L1Loss()\n",
    "\n",
    "# Setup an Optimzer\n",
    "optim = torch.optim.SGD(params = model_0.parameters(), lr = 0.001)"
   ]
  },
  {
   "cell_type": "markdown",
   "id": "51dec3c9",
   "metadata": {},
   "source": [
    "# Building a Training Loop in Pytorch"
   ]
  },
  {
   "cell_type": "markdown",
   "id": "6371f68e",
   "metadata": {},
   "source": [
    "A Couple of things we need in a training loop:\n",
    "\n",
    "    - Loop through the data and do all the below things...\n",
    "    - Forward pass (this involves data moving through our model's `forward()` functions) to make predictions on\n",
    "                    data - also called forward propogation.\n",
    "    - Calculate the loss (Compare forward pass predictions to ground truth labels).\n",
    "    - Optimizer zero grad.\n",
    "    - Loss backward - move backwards through the network to calculate the gradients of each of the parameters\n",
    "                      of our model with respect to the loss (backpropogation).\n",
    "    - Optimizer step - use the optimizer to adjust our model's parameters to try and \n",
    "                       improve the loss (gradient descent)."
   ]
  },
  {
   "cell_type": "code",
   "execution_count": 98,
   "id": "1d3968f9",
   "metadata": {},
   "outputs": [
    {
     "name": "stdout",
     "output_type": "stream",
     "text": [
      "Epochs: 0 | Training Loss: 0.31288138031959534 | Test Loss: 0.4931890368461609\n",
      "OrderedDict([('weights', tensor([0.3371])), ('bais', tensor([0.1298]))])\n",
      "\n",
      "Epochs: 100 | Training Loss: 0.19767141342163086 | Test Loss: 0.35847947001457214\n",
      "OrderedDict([('weights', tensor([0.3761])), ('bais', tensor([0.2298]))])\n",
      "\n",
      "Epochs: 200 | Training Loss: 0.08973254263401031 | Test Loss: 0.22795839607715607\n",
      "OrderedDict([('weights', tensor([0.4150])), ('bais', tensor([0.3257]))])\n",
      "\n",
      "Epochs: 300 | Training Loss: 0.05357731133699417 | Test Loss: 0.15086300671100616\n",
      "OrderedDict([('weights', tensor([0.4485])), ('bais', tensor([0.3730]))])\n",
      "\n",
      "Epochs: 400 | Training Loss: 0.04549176245927811 | Test Loss: 0.11657620966434479\n",
      "OrderedDict([('weights', tensor([0.4730])), ('bais', tensor([0.3855]))])\n",
      "\n",
      "Epochs: 500 | Training Loss: 0.04160415381193161 | Test Loss: 0.10088418424129486\n",
      "OrderedDict([('weights', tensor([0.4924])), ('bais', tensor([0.3839]))])\n",
      "\n",
      "Epochs: 600 | Training Loss: 0.03811401128768921 | Test Loss: 0.08986451476812363\n",
      "OrderedDict([('weights', tensor([0.5104])), ('bais', tensor([0.3789]))])\n",
      "\n",
      "Epochs: 700 | Training Loss: 0.03466346859931946 | Test Loss: 0.08097299933433533\n",
      "OrderedDict([('weights', tensor([0.5277])), ('bais', tensor([0.3724]))])\n",
      "\n",
      "Epochs: 800 | Training Loss: 0.03122851625084877 | Test Loss: 0.07297395914793015\n",
      "OrderedDict([('weights', tensor([0.5448])), ('bais', tensor([0.3652]))])\n",
      "\n",
      "Epochs: 900 | Training Loss: 0.027794325724244118 | Test Loss: 0.06490625441074371\n",
      "OrderedDict([('weights', tensor([0.5619])), ('bais', tensor([0.3580]))])\n",
      "\n",
      "Epochs: 1000 | Training Loss: 0.02435956709086895 | Test Loss: 0.05690721794962883\n",
      "OrderedDict([('weights', tensor([0.5790])), ('bais', tensor([0.3508]))])\n",
      "\n",
      "Epochs: 1100 | Training Loss: 0.02092517353594303 | Test Loss: 0.0488395169377327\n",
      "OrderedDict([('weights', tensor([0.5961])), ('bais', tensor([0.3437]))])\n",
      "\n",
      "Epochs: 1200 | Training Loss: 0.017490629106760025 | Test Loss: 0.04084048420190811\n",
      "OrderedDict([('weights', tensor([0.6131])), ('bais', tensor([0.3365]))])\n",
      "\n",
      "Epochs: 1300 | Training Loss: 0.014056024141609669 | Test Loss: 0.03277278691530228\n",
      "OrderedDict([('weights', tensor([0.6302])), ('bais', tensor([0.3293]))])\n",
      "\n",
      "Epochs: 1400 | Training Loss: 0.010621682740747929 | Test Loss: 0.0247737355530262\n",
      "OrderedDict([('weights', tensor([0.6473])), ('bais', tensor([0.3221]))])\n",
      "\n",
      "Epochs: 1500 | Training Loss: 0.007186878472566605 | Test Loss: 0.01670604944229126\n",
      "OrderedDict([('weights', tensor([0.6644])), ('bais', tensor([0.3150]))])\n",
      "\n",
      "Epochs: 1600 | Training Loss: 0.003752306802198291 | Test Loss: 0.008672690019011497\n",
      "OrderedDict([('weights', tensor([0.6815])), ('bais', tensor([0.3078]))])\n",
      "\n",
      "Epochs: 1700 | Training Loss: 0.0003177322505507618 | Test Loss: 0.0006393313524313271\n",
      "OrderedDict([('weights', tensor([0.6986])), ('bais', tensor([0.3006]))])\n",
      "\n",
      "Epochs: 1800 | Training Loss: 0.0004444979131221771 | Test Loss: 0.0005780101055279374\n",
      "OrderedDict([('weights', tensor([0.6997])), ('bais', tensor([0.3008]))])\n",
      "\n",
      "Epochs: 1900 | Training Loss: 0.0004444979131221771 | Test Loss: 0.0005780101055279374\n",
      "OrderedDict([('weights', tensor([0.6997])), ('bais', tensor([0.3008]))])\n",
      "\n"
     ]
    }
   ],
   "source": [
    "EPOCHS = 2000\n",
    "\n",
    "for epoch in range(0, EPOCHS):\n",
    "    \n",
    "    # Training Loop\n",
    "    \n",
    "    # 1. set the model and all the parameters that requires gradients -> to training mode\n",
    "    model_0.train()\n",
    "    \n",
    "    # 2. Forward pass\n",
    "    Y_pred = model_0(X_train)\n",
    "    \n",
    "    # 3. Calculate the Loss\n",
    "    loss = loss_fn(Y_pred, Y_train)\n",
    "    #print(f\"LOSS : {loss}\")\n",
    "    # 4. Optimizer zero grad\n",
    "    optim.zero_grad()\n",
    "    \n",
    "    # 5. Perform backpropogation on the loss with respect to the parameters of the model\n",
    "    loss.backward()\n",
    "    \n",
    "    # 6. Step the optimizer (perform gradient descent)\n",
    "    optim.step()\n",
    "    \n",
    "    \n",
    "    \n",
    "    # Testing Loop\n",
    "    \n",
    "    model_0.eval()  # Turns off different settings in the model not needed for evaluation/testing -> testing mode.\n",
    "    \n",
    "    with torch.inference_mode():   # turns off gradient tracking\n",
    "        # 1. Do the forward pass\n",
    "        test_pred = model_0(X_test)\n",
    "        \n",
    "        # 2. Calculate the loss\n",
    "        test_loss = loss_fn(test_pred, Y_test)\n",
    "        \n",
    "    \n",
    "    # print out what's happening\n",
    "    if epoch % 100 == 0:   # print this stats on every 50 epochs\n",
    "        print(f\"Epochs: {epoch} | Training Loss: {loss} | Test Loss: {test_loss}\")\n",
    "        # Print out model state_dict()\n",
    "        print(model_0.state_dict())\n",
    "        print()"
   ]
  },
  {
   "cell_type": "code",
   "execution_count": 99,
   "id": "99dddd65",
   "metadata": {},
   "outputs": [
    {
     "data": {
      "text/plain": [
       "(0.7, 0.3)"
      ]
     },
     "execution_count": 99,
     "metadata": {},
     "output_type": "execute_result"
    }
   ],
   "source": [
    "weights, bais"
   ]
  },
  {
   "cell_type": "code",
   "execution_count": 100,
   "id": "348bd968",
   "metadata": {},
   "outputs": [
    {
     "data": {
      "image/png": "[encoded data removed]",
      "text/plain": [
       "<Figure size 504x504 with 1 Axes>"
      ]
     },
     "metadata": {
      "needs_background": "light"
     },
     "output_type": "display_data"
    }
   ],
   "source": [
    "plot_predictions(predictions = test_pred)"
   ]
  },
  {
   "cell_type": "code",
   "execution_count": null,
   "id": "7aaf8916",
   "metadata": {},
   "outputs": [],
   "source": []
  },
  {
   "cell_type": "code",
   "execution_count": null,
   "id": "302f40f2",
   "metadata": {},
   "outputs": [],
   "source": []
  },
  {
   "cell_type": "markdown",
   "id": "8dac064c",
   "metadata": {},
   "source": [
    "# Save and Load Pytorch Model"
   ]
  },
  {
   "cell_type": "markdown",
   "id": "b403c8f5",
   "metadata": {},
   "source": [
    "There are three main methods for saving and loading in Pytorch:-\n",
    "    \n",
    "   - `torch.save()` - allows you to save pytorch model in Python's pickle model.\n",
    "   - `torch.load()` - allows you to load a saved pytorch object.\n",
    "   - `torch.nn.Module.load_state_dict()` - this allows you to load a model's saved state dictionary.\n",
    "   \n",
    "NOTE:- Know the difference between Saving and Loading Entire Pytorch Model vs just State_Dict"
   ]
  },
  {
   "cell_type": "code",
   "execution_count": 101,
   "id": "423c7f1c",
   "metadata": {},
   "outputs": [
    {
     "name": "stdout",
     "output_type": "stream",
     "text": [
      "models/Basic-Workflow-Models/01_pytorch_workflow_model_0.pth\n",
      "Saving model to : models/Basic-Workflow-Models/01_pytorch_workflow_model_0.pth\n"
     ]
    }
   ],
   "source": [
    "from pathlib import Path\n",
    "\n",
    "# 1. create model dir\n",
    "MODEL_PATH = Path(\"models/Basic-Workflow-Models\")\n",
    "MODEL_PATH.mkdir(parents = True, exist_ok = True)\n",
    "\n",
    "\n",
    "# 2. create model save path\n",
    "MODEL_NAME = \"01_pytorch_workflow_model_0.pth\"\n",
    "\n",
    "MODEL_SAVE_PATH = Path.joinpath(MODEL_PATH, MODEL_NAME)\n",
    "print(MODEL_SAVE_PATH)\n",
    "\n",
    "# 3. Save the model's save_dict\n",
    "print(f\"Saving model to : {MODEL_SAVE_PATH}\")\n",
    "torch.save(\n",
    "        obj = model_0.state_dict(),\n",
    "        f = MODEL_SAVE_PATH\n",
    "          )"
   ]
  },
  {
   "cell_type": "markdown",
   "id": "1d1d0607",
   "metadata": {},
   "source": [
    "# load the model\n",
    "Since we saved our model's `state_dict()` rather the entire model, we'll create a new instance of our model class and load the saved `state_dict()` into that."
   ]
  },
  {
   "cell_type": "code",
   "execution_count": 102,
   "id": "097c0cc5",
   "metadata": {},
   "outputs": [
    {
     "data": {
      "text/plain": [
       "<All keys matched successfully>"
      ]
     },
     "execution_count": 102,
     "metadata": {},
     "output_type": "execute_result"
    }
   ],
   "source": [
    "# To load in a saved_dict(), we have to instantiate a new instance of our model class.\n",
    "loaded_model_0 = LinearRegressionModel()\n",
    "\n",
    "# Load the saved state_dict of model_0 (this will update the new instance with updated parameters)\n",
    "loaded_model_0.load_state_dict(torch.load(f = MODEL_SAVE_PATH))"
   ]
  },
  {
   "cell_type": "markdown",
   "id": "ebd3fb9d",
   "metadata": {},
   "source": [
    "Lets check if we have those stats of model_0 to our loaded model 'loaded_model_0'"
   ]
  },
  {
   "cell_type": "code",
   "execution_count": 103,
   "id": "4359f5dd",
   "metadata": {},
   "outputs": [
    {
     "data": {
      "text/plain": [
       "OrderedDict([('weights', tensor([0.6994])), ('bais', tensor([0.2998]))])"
      ]
     },
     "execution_count": 103,
     "metadata": {},
     "output_type": "execute_result"
    }
   ],
   "source": [
    "loaded_model_0.state_dict()"
   ]
  },
  {
   "cell_type": "markdown",
   "id": "0af30bc5",
   "metadata": {},
   "source": [
    "### Make some predictions with our loaded model"
   ]
  },
  {
   "cell_type": "code",
   "execution_count": 104,
   "id": "d844c2f5",
   "metadata": {},
   "outputs": [
    {
     "data": {
      "text/plain": [
       "tensor([[0.8593],\n",
       "        [0.8733],\n",
       "        [0.8873],\n",
       "        [0.9013],\n",
       "        [0.9152],\n",
       "        [0.9292],\n",
       "        [0.9432],\n",
       "        [0.9572],\n",
       "        [0.9712],\n",
       "        [0.9852]])"
      ]
     },
     "execution_count": 104,
     "metadata": {},
     "output_type": "execute_result"
    }
   ],
   "source": [
    "loaded_model_0.eval()\n",
    "\n",
    "with torch.inference_mode():\n",
    "    loaded_model_preds = loaded_model_0(X_test)\n",
    "    \n",
    "loaded_model_preds"
   ]
  },
  {
   "cell_type": "code",
   "execution_count": 105,
   "id": "1150969e",
   "metadata": {},
   "outputs": [
    {
     "data": {
      "text/plain": [
       "tensor([[0.8593],\n",
       "        [0.8733],\n",
       "        [0.8873],\n",
       "        [0.9013],\n",
       "        [0.9152],\n",
       "        [0.9292],\n",
       "        [0.9432],\n",
       "        [0.9572],\n",
       "        [0.9712],\n",
       "        [0.9852]])"
      ]
     },
     "execution_count": 105,
     "metadata": {},
     "output_type": "execute_result"
    }
   ],
   "source": [
    "test_pred"
   ]
  },
  {
   "cell_type": "code",
   "execution_count": 106,
   "id": "aab7cc06",
   "metadata": {},
   "outputs": [
    {
     "data": {
      "text/plain": [
       "tensor([[True],\n",
       "        [True],\n",
       "        [True],\n",
       "        [True],\n",
       "        [True],\n",
       "        [True],\n",
       "        [True],\n",
       "        [True],\n",
       "        [True],\n",
       "        [True]])"
      ]
     },
     "execution_count": 106,
     "metadata": {},
     "output_type": "execute_result"
    }
   ],
   "source": [
    "# compare loaded model preds on test data with original model preds on test data\n",
    "loaded_model_preds == test_pred"
   ]
  },
  {
   "cell_type": "code",
   "execution_count": null,
   "id": "2f452407",
   "metadata": {},
   "outputs": [],
   "source": []
  },
  {
   "cell_type": "code",
   "execution_count": null,
   "id": "de60fc3e",
   "metadata": {},
   "outputs": [],
   "source": []
  }
 ],
 "metadata": {
  "kernelspec": {
   "display_name": "Python 3 (ipykernel)",
   "language": "python",
   "name": "python3"
  },
  "language_info": {
   "codemirror_mode": {
    "name": "ipython",
    "version": 3
   },
   "file_extension": ".py",
   "mimetype": "text/x-python",
   "name": "python",
   "nbconvert_exporter": "python",
   "pygments_lexer": "ipython3",
   "version": "3.9.7"
  }
 },
 "nbformat": 4,
 "nbformat_minor": 5
}
