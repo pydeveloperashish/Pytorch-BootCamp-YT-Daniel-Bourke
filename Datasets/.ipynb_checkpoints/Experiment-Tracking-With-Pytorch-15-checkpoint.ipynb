{
 "cells": [
  {
   "cell_type": "markdown",
   "id": "aae0cd9e",
   "metadata": {},
   "source": [
    "Machine Learning is very experimental.\n",
    "\n",
    "In order to figure out which experiments are worth pursuing, that's where **experiment tracking** comes in, it helps you to figure out what does't work so you can figure out what does work.\n",
    "\n",
    "In this notebook, we gonna track experiments."
   ]
  },
  {
   "cell_type": "code",
   "execution_count": 4,
   "id": "a818aad7",
   "metadata": {},
   "outputs": [],
   "source": [
    "import torch \n",
    "import torchvision\n",
    "import os"
   ]
  },
  {
   "cell_type": "code",
   "execution_count": 5,
   "id": "1b033713",
   "metadata": {},
   "outputs": [
    {
     "name": "stdout",
     "output_type": "stream",
     "text": [
      "cpu\n"
     ]
    }
   ],
   "source": [
    "# Setup device agnostic code\n",
    "device = \"cuda\" if torch.cuda.is_available() else \"cpu\"\n",
    "print(device)"
   ]
  },
  {
   "cell_type": "code",
   "execution_count": 7,
   "id": "9b7b787d",
   "metadata": {},
   "outputs": [
    {
     "data": {
      "text/plain": [
       "('Datasets/pizza_steak_sushi/train', 'Datasets/pizza_steak_sushi/test')"
      ]
     },
     "execution_count": 7,
     "metadata": {},
     "output_type": "execute_result"
    }
   ],
   "source": [
    "# 2. Setup directory path\n",
    "train_dir = os.path.join(\"Datasets\", \"pizza_steak_sushi\", \"train\")\n",
    "test_dir = os.path.join(\"Datasets\", \"pizza_steak_sushi\", \"test\")\n",
    "\n",
    "train_dir, test_dir"
   ]
  },
  {
   "cell_type": "markdown",
   "id": "9d00d991",
   "metadata": {},
   "source": [
    "# Create Datasets and DataLoaders"
   ]
  },
  {
   "cell_type": "code",
   "execution_count": 8,
   "id": "1771ae42",
   "metadata": {},
   "outputs": [
    {
     "ename": "ModuleNotFoundError",
     "evalue": "No module named 'going_moduler'",
     "output_type": "error",
     "traceback": [
      "\u001b[0;31m---------------------------------------------------------------------------\u001b[0m",
      "\u001b[0;31mModuleNotFoundError\u001b[0m                       Traceback (most recent call last)",
      "Input \u001b[0;32mIn [8]\u001b[0m, in \u001b[0;36m<cell line: 1>\u001b[0;34m()\u001b[0m\n\u001b[0;32m----> 1\u001b[0m \u001b[38;5;28;01mfrom\u001b[39;00m \u001b[38;5;21;01mgoing_moduler\u001b[39;00m \u001b[38;5;28;01mimport\u001b[39;00m data_setup\n",
      "\u001b[0;31mModuleNotFoundError\u001b[0m: No module named 'going_moduler'"
     ]
    }
   ],
   "source": [
    "from going_moduler import data_setup"
   ]
  },
  {
   "cell_type": "code",
   "execution_count": null,
   "id": "f0a86f7e",
   "metadata": {},
   "outputs": [],
   "source": []
  },
  {
   "cell_type": "code",
   "execution_count": null,
   "id": "b785dfe1",
   "metadata": {},
   "outputs": [],
   "source": []
  },
  {
   "cell_type": "code",
   "execution_count": null,
   "id": "1999d3ff",
   "metadata": {},
   "outputs": [],
   "source": []
  },
  {
   "cell_type": "code",
   "execution_count": null,
   "id": "62a2d90b",
   "metadata": {},
   "outputs": [],
   "source": []
  },
  {
   "cell_type": "code",
   "execution_count": null,
   "id": "c8aeb8d5",
   "metadata": {},
   "outputs": [],
   "source": []
  },
  {
   "cell_type": "code",
   "execution_count": null,
   "id": "80e1a6ba",
   "metadata": {},
   "outputs": [],
   "source": []
  }
 ],
 "metadata": {
  "kernelspec": {
   "display_name": "Python 3 (ipykernel)",
   "language": "python",
   "name": "python3"
  },
  "language_info": {
   "codemirror_mode": {
    "name": "ipython",
    "version": 3
   },
   "file_extension": ".py",
   "mimetype": "text/x-python",
   "name": "python",
   "nbconvert_exporter": "python",
   "pygments_lexer": "ipython3",
   "version": "3.9.7"
  }
 },
 "nbformat": 4,
 "nbformat_minor": 5
}
